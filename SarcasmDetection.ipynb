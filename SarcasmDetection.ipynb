{
 "cells": [
  {
   "cell_type": "markdown",
   "metadata": {},
   "source": [
    "Simon Capel - 5870674 - Notebook supporting the Final Assignment for Language Technology - MBA BD\n",
    "\n",
    "Code in this notebook was inspired by:\n",
    "- Muller & Guido: Introduction to Machine Learning with Python - Chapter 7 (Working with Text Data)\n",
    "- Lecture Slides\n",
    "- BERT implementation example (https://colab.research.google.com/github/jalammar/jalammar.github.io/blob/master/notebooks/bert/A_Visual_Notebook_to_Using_BERT_for_the_First_Time.ipynb#scrollTo=JD3fX2yh6PTx)"
   ]
  },
  {
   "cell_type": "code",
   "execution_count": 1,
   "metadata": {},
   "outputs": [
    {
     "name": "stderr",
     "output_type": "stream",
     "text": [
      "[nltk_data] Downloading package punkt to\n",
      "[nltk_data]     C:\\Users\\simon\\AppData\\Roaming\\nltk_data...\n",
      "[nltk_data]   Package punkt is already up-to-date!\n"
     ]
    }
   ],
   "source": [
    "from sklearn.feature_extraction.text import CountVectorizer, TfidfVectorizer\n",
    "from sklearn.model_selection import train_test_split, GridSearchCV\n",
    "from sklearn.linear_model import  LogisticRegression, SGDClassifier\n",
    "from sklearn.metrics import  confusion_matrix, classification_report, roc_auc_score\n",
    "from sklearn.decomposition import LatentDirichletAllocation\n",
    "from stop_words import get_stop_words\n",
    "from sklearn.pipeline import make_pipeline\n",
    "import matplotlib.pyplot as plt\n",
    "import mglearn\n",
    "import nltk\n",
    "nltk.download('punkt')\n",
    "from nltk import word_tokenize\n",
    "from imblearn.under_sampling import RandomUnderSampler\n",
    "import pandas as pd\n",
    "import numpy as np\n",
    "import re\n",
    "import torch\n",
    "import transformers as ppb"
   ]
  },
  {
   "cell_type": "markdown",
   "metadata": {},
   "source": [
    "# EDA"
   ]
  },
  {
   "cell_type": "code",
   "execution_count": 2,
   "metadata": {},
   "outputs": [],
   "source": [
    "df = pd.read_csv(\"Dutch Sarcasm.csv\")\n",
    "df = df.drop_duplicates(subset = ['headline'])"
   ]
  },
  {
   "cell_type": "markdown",
   "metadata": {},
   "source": [
    "We import the dataset and remove duplicates in the variable headline."
   ]
  },
  {
   "cell_type": "code",
   "execution_count": 3,
   "metadata": {},
   "outputs": [
    {
     "data": {
      "text/plain": [
       "array([8261, 5001], dtype=int64)"
      ]
     },
     "execution_count": 3,
     "metadata": {},
     "output_type": "execute_result"
    }
   ],
   "source": [
    "np.bincount(df.is_sarcastic)"
   ]
  },
  {
   "cell_type": "markdown",
   "metadata": {},
   "source": [
    "Our dataset is reasonably balanced between sarcastic and non sarcastic news headlines"
   ]
  },
  {
   "cell_type": "code",
   "execution_count": 4,
   "metadata": {},
   "outputs": [
    {
     "data": {
      "text/plain": [
       "\"<13262x18715 sparse matrix of type '<class 'numpy.int64'>'\\n\\twith 115621 stored elements in Compressed Sparse Row format>\""
      ]
     },
     "execution_count": 4,
     "metadata": {},
     "output_type": "execute_result"
    }
   ],
   "source": [
    "vect = CountVectorizer()\n",
    "docs = df.headline\n",
    "vect.fit(docs)\n",
    "bag_of_words = vect.transform(docs)\n",
    "repr(bag_of_words)"
   ]
  },
  {
   "cell_type": "markdown",
   "metadata": {},
   "source": [
    "We create a dictionary which contains 18715 unique words over the roughly 13,000 documents available"
   ]
  },
  {
   "cell_type": "code",
   "execution_count": 5,
   "metadata": {},
   "outputs": [
    {
     "data": {
      "text/plain": [
       "<1x18715 sparse matrix of type '<class 'numpy.int64'>'\n",
       "\twith 10 stored elements in Compressed Sparse Row format>"
      ]
     },
     "execution_count": 5,
     "metadata": {},
     "output_type": "execute_result"
    }
   ],
   "source": [
    "bag_of_words[0]"
   ]
  },
  {
   "cell_type": "markdown",
   "metadata": {},
   "source": [
    "first headline apparently has 10 words"
   ]
  },
  {
   "cell_type": "code",
   "execution_count": 6,
   "metadata": {},
   "outputs": [
    {
     "name": "stdout",
     "output_type": "stream",
     "text": [
      "  (0, 2266)\t1\n",
      "  (0, 4189)\t1\n",
      "  (0, 5269)\t1\n",
      "  (0, 6761)\t1\n",
      "  (0, 9793)\t1\n",
      "  (0, 10127)\t1\n",
      "  (0, 10257)\t1\n",
      "  (0, 11316)\t1\n",
      "  (0, 11400)\t1\n",
      "  (0, 11648)\t1\n"
     ]
    }
   ],
   "source": [
    "for i in bag_of_words[0]:\n",
    "    print (i)"
   ]
  },
  {
   "cell_type": "code",
   "execution_count": 7,
   "metadata": {},
   "outputs": [
    {
     "data": {
      "text/plain": [
       "'Ook mysterieuze metalen monoliet opgedoken bij het Friese dorpje Oudehorne'"
      ]
     },
     "execution_count": 7,
     "metadata": {},
     "output_type": "execute_result"
    }
   ],
   "source": [
    "df.headline[0]"
   ]
  },
  {
   "cell_type": "code",
   "execution_count": 8,
   "metadata": {},
   "outputs": [
    {
     "data": {
      "text/plain": [
       "'monoliet'"
      ]
     },
     "execution_count": 8,
     "metadata": {},
     "output_type": "execute_result"
    }
   ],
   "source": [
    "vect.get_feature_names()[10127]"
   ]
  },
  {
   "cell_type": "markdown",
   "metadata": {},
   "source": [
    "Inspecting one of the features provided by the sparse matrix"
   ]
  },
  {
   "cell_type": "markdown",
   "metadata": {},
   "source": [
    "# Baseline Model"
   ]
  },
  {
   "cell_type": "code",
   "execution_count": 9,
   "metadata": {},
   "outputs": [
    {
     "name": "stdout",
     "output_type": "stream",
     "text": [
      "Best C: 1\n"
     ]
    }
   ],
   "source": [
    "X_train, X_test, y_train, y_test = train_test_split(bag_of_words, df.is_sarcastic, \n",
    "                                                    random_state=42, train_size=0.70, test_size = 0.30)\n",
    "#baseline model\n",
    "logreg = LogisticRegression(max_iter = 1000)\n",
    "param_grid = {\"C\": [0.001, 0.01, 0.1, 1, 10, 100, 1000] }\n",
    "grid = GridSearchCV(logreg, param_grid = param_grid,return_train_score = True, cv=5, scoring='roc_auc')\n",
    "grid.fit(X_train, y_train)\n",
    "print('Best C:', grid.best_estimator_.get_params()['C'])"
   ]
  },
  {
   "cell_type": "code",
   "execution_count": 10,
   "metadata": {},
   "outputs": [
    {
     "data": {
      "text/plain": [
       "0.8284508927729697"
      ]
     },
     "execution_count": 10,
     "metadata": {},
     "output_type": "execute_result"
    }
   ],
   "source": [
    "roc_auc_score(y_test, grid.predict(X_test))"
   ]
  },
  {
   "cell_type": "code",
   "execution_count": 11,
   "metadata": {},
   "outputs": [
    {
     "name": "stdout",
     "output_type": "stream",
     "text": [
      "              precision    recall  f1-score   support\n",
      "\n",
      "           0       0.87      0.87      0.87      2485\n",
      "           1       0.78      0.79      0.79      1494\n",
      "\n",
      "    accuracy                           0.84      3979\n",
      "   macro avg       0.83      0.83      0.83      3979\n",
      "weighted avg       0.84      0.84      0.84      3979\n",
      "\n"
     ]
    }
   ],
   "source": [
    "print(classification_report(y_test, grid.predict(X_test)))"
   ]
  },
  {
   "cell_type": "code",
   "execution_count": 12,
   "metadata": {},
   "outputs": [
    {
     "data": {
      "image/png": "[encoded data removed]",
      "text/plain": [
       "<Figure size 1080x360 with 1 Axes>"
      ]
     },
     "metadata": {
      "needs_background": "light"
     },
     "output_type": "display_data"
    }
   ],
   "source": [
    "mglearn.tools.visualize_coefficients(grid.best_estimator_.coef_, vect.get_feature_names(), n_top_features=40)"
   ]
  },
  {
   "cell_type": "markdown",
   "metadata": {},
   "source": [
    "We train a baseline model in with no pre-processing of the data and identify performance of the model and the features"
   ]
  },
  {
   "cell_type": "markdown",
   "metadata": {},
   "source": [
    "# Excluding Infrequent Words"
   ]
  },
  {
   "cell_type": "code",
   "execution_count": 13,
   "metadata": {},
   "outputs": [
    {
     "name": "stdout",
     "output_type": "stream",
     "text": [
      "Best C: 1\n"
     ]
    }
   ],
   "source": [
    "vect = CountVectorizer(min_df=5)\n",
    "vect.fit(docs)\n",
    "bag_of_words = vect.transform(docs)\n",
    "repr(bag_of_words)\n",
    "\n",
    "X_train, X_test, y_train, y_test = train_test_split(bag_of_words, df.is_sarcastic, \n",
    "                                                    random_state=42, train_size=0.70, test_size = 0.30)\n",
    "\n",
    "\n",
    "logreg = LogisticRegression(max_iter = 1000)\n",
    "param_grid = {\"C\": [0.001, 0.01, 0.1, 1, 10, 100, 1000] }\n",
    "grid = GridSearchCV(logreg, param_grid = param_grid,return_train_score = True, cv=5, scoring='roc_auc')\n",
    "grid.fit(X_train, y_train)\n",
    "print('Best C:', grid.best_estimator_.get_params()['C'])"
   ]
  },
  {
   "cell_type": "code",
   "execution_count": 14,
   "metadata": {},
   "outputs": [
    {
     "data": {
      "text/plain": [
       "0.8202671181035343"
      ]
     },
     "execution_count": 14,
     "metadata": {},
     "output_type": "execute_result"
    }
   ],
   "source": [
    "roc_auc_score(y_test, grid.predict(X_test))"
   ]
  },
  {
   "cell_type": "code",
   "execution_count": 15,
   "metadata": {},
   "outputs": [
    {
     "name": "stdout",
     "output_type": "stream",
     "text": [
      "              precision    recall  f1-score   support\n",
      "\n",
      "           0       0.87      0.85      0.86      2485\n",
      "           1       0.76      0.79      0.78      1494\n",
      "\n",
      "    accuracy                           0.83      3979\n",
      "   macro avg       0.82      0.82      0.82      3979\n",
      "weighted avg       0.83      0.83      0.83      3979\n",
      "\n"
     ]
    }
   ],
   "source": [
    "print(classification_report(y_test, grid.predict(X_test)))"
   ]
  },
  {
   "cell_type": "markdown",
   "metadata": {},
   "source": [
    "we train a model which filters words with a low frequency of occuring"
   ]
  },
  {
   "cell_type": "markdown",
   "metadata": {},
   "source": [
    "# Excluding Stopwords"
   ]
  },
  {
   "cell_type": "code",
   "execution_count": 16,
   "metadata": {},
   "outputs": [
    {
     "name": "stdout",
     "output_type": "stream",
     "text": [
      "['aan', 'al', 'alles', 'als', 'altijd', 'andere', 'ben', 'bij', 'daar', 'dan', 'dat', 'de', 'der', 'deze', 'die', 'dit', 'doch', 'doen', 'door', 'dus', 'een', 'eens', 'en', 'er', 'ge', 'geen', 'geweest', 'haar', 'had', 'heb', 'hebben', 'heeft', 'hem', 'het', 'hier', 'hij', 'hoe', 'hun', 'iemand', 'iets', 'ik', 'in', 'is', 'ja', 'je', 'kan', 'kon', 'kunnen', 'maar', 'me', 'meer', 'men', 'met', 'mij', 'mijn', 'moet', 'na', 'naar', 'niet', 'niets', 'nog', 'nu', 'of', 'om', 'omdat', 'onder', 'ons', 'ook', 'op', 'over', 'reeds', 'te', 'tegen', 'toch', 'toen', 'tot', 'u', 'uit', 'uw', 'van', 'veel', 'voor', 'want', 'waren', 'was', 'wat', 'werd', 'wezen', 'wie', 'wil', 'worden', 'wordt', 'zal', 'ze', 'zelf', 'zich', 'zij', 'zijn', 'zo', 'zonder', 'zou']\n"
     ]
    }
   ],
   "source": [
    "stop_words = get_stop_words('nl')\n",
    "print(stop_words)"
   ]
  },
  {
   "cell_type": "code",
   "execution_count": 17,
   "metadata": {},
   "outputs": [
    {
     "name": "stdout",
     "output_type": "stream",
     "text": [
      "Best C: 1\n"
     ]
    }
   ],
   "source": [
    "\n",
    "vect = CountVectorizer(min_df=5, stop_words=stop_words)\n",
    "vect.fit(docs)\n",
    "bag_of_words = vect.transform(docs)\n",
    "repr(bag_of_words)\n",
    "\n",
    "X_train, X_test, y_train, y_test = train_test_split(bag_of_words, df.is_sarcastic, \n",
    "                                                    random_state=42, train_size=0.70, test_size = 0.30)\n",
    "logreg = LogisticRegression(max_iter = 1000)\n",
    "param_grid = {\"C\": [0.001, 0.01, 0.1, 1, 10, 100, 1000] }\n",
    "grid = GridSearchCV(logreg, param_grid = param_grid,return_train_score = True, cv=5, scoring='roc_auc')\n",
    "grid.fit(X_train, y_train)\n",
    "print('Best C:', grid.best_estimator_.get_params()['C'])"
   ]
  },
  {
   "cell_type": "code",
   "execution_count": 18,
   "metadata": {},
   "outputs": [
    {
     "data": {
      "text/plain": [
       "0.8099519472928602"
      ]
     },
     "execution_count": 18,
     "metadata": {},
     "output_type": "execute_result"
    }
   ],
   "source": [
    "roc_auc_score(y_test, grid.predict(X_test))"
   ]
  },
  {
   "cell_type": "code",
   "execution_count": 19,
   "metadata": {},
   "outputs": [
    {
     "name": "stdout",
     "output_type": "stream",
     "text": [
      "              precision    recall  f1-score   support\n",
      "\n",
      "           0       0.86      0.85      0.85      2485\n",
      "           1       0.75      0.77      0.76      1494\n",
      "\n",
      "    accuracy                           0.82      3979\n",
      "   macro avg       0.81      0.81      0.81      3979\n",
      "weighted avg       0.82      0.82      0.82      3979\n",
      "\n"
     ]
    }
   ],
   "source": [
    "print(classification_report(y_test, grid.predict(X_test)))"
   ]
  },
  {
   "cell_type": "markdown",
   "metadata": {},
   "source": [
    "# Applying tf-idf scaling"
   ]
  },
  {
   "cell_type": "code",
   "execution_count": 20,
   "metadata": {},
   "outputs": [
    {
     "name": "stdout",
     "output_type": "stream",
     "text": [
      "Best C: 10\n",
      "Best min_df: 0\n"
     ]
    }
   ],
   "source": [
    "X_train, X_test, y_train, y_test = train_test_split(docs, df.is_sarcastic, \n",
    "                                                    random_state=42, train_size=0.70, test_size = 0.30)\n",
    "\n",
    "pipe = make_pipeline(TfidfVectorizer(), LogisticRegression(max_iter = 1000))\n",
    "param_grid = {\"logisticregression__C\": [ 1, 10, 100], \"tfidfvectorizer__min_df\": [0,1,2,3,4,5,6,7,8,9,10] }\n",
    "grid = GridSearchCV(pipe, param_grid = param_grid,return_train_score = True, cv=5, scoring='roc_auc')\n",
    "grid.fit(X_train, y_train)\n",
    "print('Best C:', grid.best_estimator_.get_params()['logisticregression__C'])\n",
    "print('Best min_df:', grid.best_estimator_.get_params()['tfidfvectorizer__min_df'])"
   ]
  },
  {
   "cell_type": "code",
   "execution_count": 21,
   "metadata": {},
   "outputs": [
    {
     "data": {
      "text/plain": [
       "0.7997590630799521"
      ]
     },
     "execution_count": 21,
     "metadata": {},
     "output_type": "execute_result"
    }
   ],
   "source": [
    "roc_auc_score(y_test, grid.predict(X_test))\n"
   ]
  },
  {
   "cell_type": "code",
   "execution_count": 22,
   "metadata": {},
   "outputs": [
    {
     "name": "stdout",
     "output_type": "stream",
     "text": [
      "              precision    recall  f1-score   support\n",
      "\n",
      "           0       0.83      0.89      0.86      2485\n",
      "           1       0.80      0.71      0.75      1494\n",
      "\n",
      "    accuracy                           0.82      3979\n",
      "   macro avg       0.82      0.80      0.81      3979\n",
      "weighted avg       0.82      0.82      0.82      3979\n",
      "\n"
     ]
    }
   ],
   "source": [
    "print(classification_report(y_test, grid.predict(X_test)))"
   ]
  },
  {
   "cell_type": "markdown",
   "metadata": {},
   "source": [
    "# Evaluating the impact of including bi/trigrams"
   ]
  },
  {
   "cell_type": "code",
   "execution_count": 50,
   "metadata": {},
   "outputs": [
    {
     "name": "stdout",
     "output_type": "stream",
     "text": [
      "Best C: 1000\n",
      "Best N_Grams: (1, 2)\n"
     ]
    }
   ],
   "source": [
    "X_train, X_test, y_train, y_test = train_test_split(docs, df.is_sarcastic, \n",
    "                                                    random_state=42, train_size=0.70, test_size = 0.30)\n",
    "\n",
    "pipe = make_pipeline(CountVectorizer(), LogisticRegression(max_iter = 10000))\n",
    "param_grid = {\"logisticregression__C\": [0.001, 0.01, 0.1, 1, 10, 100, 1000], 'countvectorizer__ngram_range': [(1,1),(1,2),(1,3)] }\n",
    "grid = GridSearchCV(pipe, param_grid = param_grid,return_train_score = True, cv=5, scoring='roc_auc')\n",
    "grid.fit(X_train, y_train)\n",
    "print('Best C:', grid.best_estimator_.get_params()['logisticregression__C'])\n",
    "print('Best N_Grams:', grid.best_estimator_.get_params()['countvectorizer__ngram_range'])\n"
   ]
  },
  {
   "cell_type": "code",
   "execution_count": 51,
   "metadata": {},
   "outputs": [
    {
     "data": {
      "text/plain": [
       "0.8316500071378741"
      ]
     },
     "execution_count": 51,
     "metadata": {},
     "output_type": "execute_result"
    }
   ],
   "source": [
    "roc_auc_score(y_test, grid.predict(X_test))"
   ]
  },
  {
   "cell_type": "code",
   "execution_count": 52,
   "metadata": {},
   "outputs": [
    {
     "name": "stdout",
     "output_type": "stream",
     "text": [
      "              precision    recall  f1-score   support\n",
      "\n",
      "           0       0.88      0.86      0.87      2485\n",
      "           1       0.77      0.81      0.79      1494\n",
      "\n",
      "    accuracy                           0.84      3979\n",
      "   macro avg       0.83      0.83      0.83      3979\n",
      "weighted avg       0.84      0.84      0.84      3979\n",
      "\n"
     ]
    }
   ],
   "source": [
    "print(classification_report(y_test, grid.predict(X_test)))"
   ]
  },
  {
   "cell_type": "markdown",
   "metadata": {},
   "source": [
    "# Stemming"
   ]
  },
  {
   "cell_type": "code",
   "execution_count": 26,
   "metadata": {},
   "outputs": [
    {
     "name": "stdout",
     "output_type": "stream",
     "text": [
      "['huis', 'huiz', 'gebouw', 'gebouw', 'word', 'wordt', 'woord', 'woord', 'corona', 'coronavirus']\n"
     ]
    }
   ],
   "source": [
    "stemmer = nltk.stem.snowball.DutchStemmer()\n",
    "\n",
    "test = ['huis', 'huizen', 'gebouw', 'gebouwen', 'worden', 'wordt', 'woorden', 'woord', 'corona', 'coronavirus']\n",
    "\n",
    "stem_test = [stemmer.stem(w) for w in test]\n",
    "print(stem_test)"
   ]
  },
  {
   "cell_type": "code",
   "execution_count": 27,
   "metadata": {},
   "outputs": [
    {
     "name": "stderr",
     "output_type": "stream",
     "text": [
      "C:\\Users\\simon\\anaconda3\\lib\\site-packages\\sklearn\\feature_extraction\\text.py:484: UserWarning: The parameter 'token_pattern' will not be used since 'tokenizer' is not None'\n",
      "  warnings.warn(\"The parameter 'token_pattern' will not be used\"\n"
     ]
    },
    {
     "data": {
      "text/plain": [
       "\"<13262x15742 sparse matrix of type '<class 'numpy.int64'>'\\n\\twith 114942 stored elements in Compressed Sparse Row format>\""
      ]
     },
     "execution_count": 27,
     "metadata": {},
     "output_type": "execute_result"
    }
   ],
   "source": [
    "def lower_letters(docs):\n",
    "    letters_only = re.sub(\"[^a-zA-Z]\", \" \", docs)\n",
    "    lower_case = letters_only.lower()\n",
    "    return(lower_case)\n",
    "\n",
    "def tokenize (docs):\n",
    "    tokens = word_tokenize(lower_letters(docs))\n",
    "    words = [w for w in tokens]\n",
    "    stems = [stemmer.stem(word) for word in words]\n",
    "    return(stems)\n",
    "\n",
    "\n",
    "vect = CountVectorizer(tokenizer = tokenize)\n",
    "\n",
    "vect.fit(docs)\n",
    "BoW_stemmed = vect.transform(docs)\n",
    "repr(BoW_stemmed)"
   ]
  },
  {
   "cell_type": "markdown",
   "metadata": {},
   "source": [
    "stemming worked because matrix is indeed reduced"
   ]
  },
  {
   "cell_type": "code",
   "execution_count": 53,
   "metadata": {},
   "outputs": [
    {
     "name": "stdout",
     "output_type": "stream",
     "text": [
      "Best C: 1000\n"
     ]
    }
   ],
   "source": [
    "X_train, X_test, y_train, y_test = train_test_split(docs, df.is_sarcastic, \n",
    "                                                    random_state=42, train_size=0.70, test_size = 0.30)\n",
    "\n",
    "# we use the tokenizer function defined above with the optimal number of ngrams found in the previous step\n",
    "# we add the tokenizer to the pipeline to avoid information leakage\n",
    "pipe = make_pipeline(CountVectorizer(tokenizer = tokenize,ngram_range = (1,2) ), LogisticRegression(max_iter = 1000))\n",
    "param_grid = {\"logisticregression__C\": [0.001, 0.01, 0.1, 1, 10, 100, 1000] }\n",
    "grid = GridSearchCV(pipe, param_grid = param_grid,return_train_score = True, cv=5, scoring='roc_auc')\n",
    "grid.fit(X_train, y_train)\n",
    "print('Best C:', grid.best_estimator_.get_params()['logisticregression__C'])"
   ]
  },
  {
   "cell_type": "code",
   "execution_count": 54,
   "metadata": {},
   "outputs": [
    {
     "data": {
      "text/plain": [
       "0.8315205826660094"
      ]
     },
     "execution_count": 54,
     "metadata": {},
     "output_type": "execute_result"
    }
   ],
   "source": [
    "roc_auc_score(y_test, grid.predict(X_test))"
   ]
  },
  {
   "cell_type": "code",
   "execution_count": 55,
   "metadata": {},
   "outputs": [
    {
     "name": "stdout",
     "output_type": "stream",
     "text": [
      "              precision    recall  f1-score   support\n",
      "\n",
      "           0       0.88      0.86      0.87      2485\n",
      "           1       0.78      0.80      0.79      1494\n",
      "\n",
      "    accuracy                           0.84      3979\n",
      "   macro avg       0.83      0.83      0.83      3979\n",
      "weighted avg       0.84      0.84      0.84      3979\n",
      "\n"
     ]
    }
   ],
   "source": [
    "print(classification_report(y_test, grid.predict(X_test)))"
   ]
  },
  {
   "cell_type": "markdown",
   "metadata": {},
   "source": [
    "# LDA"
   ]
  },
  {
   "cell_type": "code",
   "execution_count": 31,
   "metadata": {},
   "outputs": [
    {
     "data": {
      "text/plain": [
       "array([0.02000099, 0.02000237, 0.81998856, 0.02000113, 0.02      ,\n",
       "       0.02      , 0.02      , 0.02000694, 0.02      , 0.02      ])"
      ]
     },
     "execution_count": 31,
     "metadata": {},
     "output_type": "execute_result"
    }
   ],
   "source": [
    "#excluding very frequent/infrequent words as input for the LDA\n",
    "vect = CountVectorizer(max_features=10000, max_df=0.15, stop_words=stop_words)\n",
    "BoW = vect.fit_transform(docs)\n",
    "\n",
    "lda = LatentDirichletAllocation(n_components=10, learning_method=\"batch\", max_iter=25, random_state=42)\n",
    "topics = lda.fit_transform(BoW)\n",
    "\n",
    "topics [0]"
   ]
  },
  {
   "cell_type": "code",
   "execution_count": 32,
   "metadata": {},
   "outputs": [
    {
     "name": "stdout",
     "output_type": "stream",
     "text": [
      "topic 0       topic 1       topic 2       topic 3       topic 4       \n",
      "--------      --------      --------      --------      --------      \n",
      "nederland     trump         weerbericht   kabinet       man           \n",
      "pvda          biden         af            nederland     jaar          \n",
      "corona        vvd           dag           kamer         cel           \n",
      "maakt         president     toe           rutte         verdachte     \n",
      "tweede        cda           zon           minister      gaat          \n",
      "vanaf         oud           regen         tweede        aanslag       \n",
      "mag           stapt         kans          coronamaatregeleneist          \n",
      "burgemeester  politiek      later         jaar          opgepakt      \n",
      "wel           verkiezingsupdateneemt         gaat          vrouw         \n",
      "mondkapje     d66           krijgt        euro          vier          \n",
      "\n",
      "\n",
      "topic 5       topic 6       topic 7       topic 8       topic 9       \n",
      "--------      --------      --------      --------      --------      \n",
      "fvd           nieuwe        vs            politie       rutte         \n",
      "rusland       aantal        miljoen       den           trump         \n",
      "onderzoek     rivm          weer          haag          weer          \n",
      "akkoord       000           coronavirus   grapperhaus   goed          \n",
      "baudet        coronavirus   kabinet       mensen        af            \n",
      "nederland     meldt         doden         amsterdam     vijf          \n",
      "kabinet       week          euro          minister      blok          \n",
      "eerste        positieve     nieuwe        man           kinderen      \n",
      "terug         ruim          eu            verdachten    nieuws        \n",
      "nieuw         besmettingen  gaat          willem        mei           \n",
      "\n",
      "\n"
     ]
    }
   ],
   "source": [
    "sorting = np.argsort(lda.components_, axis=1)[:, ::-1]\n",
    "feature_names = np.array(vect.get_feature_names())\n",
    "mglearn.tools.print_topics(topics=range(10), feature_names=feature_names, sorting=sorting, topics_per_chunk=5, n_words=10)"
   ]
  },
  {
   "cell_type": "code",
   "execution_count": 33,
   "metadata": {},
   "outputs": [
    {
     "name": "stdout",
     "output_type": "stream",
     "text": [
      "Best C: 1000\n"
     ]
    },
    {
     "data": {
      "text/plain": [
       "0.5"
      ]
     },
     "execution_count": 33,
     "metadata": {},
     "output_type": "execute_result"
    }
   ],
   "source": [
    "X_train, X_test, y_train, y_test = train_test_split(topics, df.is_sarcastic, \n",
    "                                                    random_state=42, train_size=0.70, test_size = 0.30)\n",
    "\n",
    "pipe = make_pipeline( LogisticRegression(max_iter = 1000))\n",
    "param_grid = {\"logisticregression__C\": [0.001, 0.01, 0.1, 1, 10, 100, 1000]}\n",
    "grid = GridSearchCV(pipe, param_grid = param_grid,return_train_score = True, cv=5, scoring='roc_auc')\n",
    "grid.fit(X_train, y_train)\n",
    "print('Best C:', grid.best_estimator_.get_params()['logisticregression__C'])\n",
    "roc_auc_score(y_test, grid.predict(X_test))"
   ]
  },
  {
   "cell_type": "code",
   "execution_count": 34,
   "metadata": {},
   "outputs": [
    {
     "name": "stdout",
     "output_type": "stream",
     "text": [
      "              precision    recall  f1-score   support\n",
      "\n",
      "           0       0.62      1.00      0.77      2485\n",
      "           1       0.00      0.00      0.00      1494\n",
      "\n",
      "    accuracy                           0.62      3979\n",
      "   macro avg       0.31      0.50      0.38      3979\n",
      "weighted avg       0.39      0.62      0.48      3979\n",
      "\n"
     ]
    },
    {
     "name": "stderr",
     "output_type": "stream",
     "text": [
      "C:\\Users\\simon\\anaconda3\\lib\\site-packages\\sklearn\\metrics\\_classification.py:1221: UndefinedMetricWarning: Precision and F-score are ill-defined and being set to 0.0 in labels with no predicted samples. Use `zero_division` parameter to control this behavior.\n",
      "  _warn_prf(average, modifier, msg_start, len(result))\n"
     ]
    }
   ],
   "source": [
    "print(classification_report(y_test, grid.predict(X_test)))"
   ]
  },
  {
   "cell_type": "markdown",
   "metadata": {},
   "source": [
    "# BERT"
   ]
  },
  {
   "cell_type": "code",
   "execution_count": 35,
   "metadata": {},
   "outputs": [
    {
     "name": "stderr",
     "output_type": "stream",
     "text": [
      "Some weights of the model checkpoint at distilbert-base-uncased were not used when initializing DistilBertModel: ['vocab_layer_norm.bias', 'vocab_projector.bias', 'vocab_transform.bias', 'vocab_projector.weight', 'vocab_layer_norm.weight', 'vocab_transform.weight']\n",
      "- This IS expected if you are initializing DistilBertModel from the checkpoint of a model trained on another task or with another architecture (e.g. initializing a BertForSequenceClassification model from a BertForPreTraining model).\n",
      "- This IS NOT expected if you are initializing DistilBertModel from the checkpoint of a model that you expect to be exactly identical (initializing a BertForSequenceClassification model from a BertForSequenceClassification model).\n"
     ]
    }
   ],
   "source": [
    "model_class, tokenizer_class, pretrained_weights = (ppb.DistilBertModel, ppb.DistilBertTokenizer, 'distilbert-base-uncased')\n",
    "\n",
    "tokenizer = tokenizer_class.from_pretrained(pretrained_weights)\n",
    "model = model_class.from_pretrained(pretrained_weights)"
   ]
  },
  {
   "cell_type": "code",
   "execution_count": 36,
   "metadata": {},
   "outputs": [
    {
     "data": {
      "text/plain": [
       "(13262, 58)"
      ]
     },
     "execution_count": 36,
     "metadata": {},
     "output_type": "execute_result"
    }
   ],
   "source": [
    "tokenized = docs.apply((lambda x: tokenizer.encode(x, add_special_tokens=True)))\n",
    "\n",
    "max_len = 0\n",
    "for i in tokenized.values:\n",
    "    if len(i) > max_len:\n",
    "        max_len = len(i)\n",
    "\n",
    "padded = np.array([i + [0]*(max_len-len(i)) for i in tokenized.values])\n",
    "\n",
    "np.array(padded).shape"
   ]
  },
  {
   "cell_type": "code",
   "execution_count": 37,
   "metadata": {},
   "outputs": [],
   "source": [
    "attention_mask = np.where(padded != 0, 1, 0)\n",
    "attention_mask.shape\n",
    "\n",
    "input_ids = torch.tensor(padded)  \n",
    "attention_mask = torch.tensor(attention_mask)\n",
    "\n",
    "with torch.no_grad():\n",
    "    last_hidden_states = model(input_ids, attention_mask=attention_mask)\n",
    "    \n",
    "features = last_hidden_states[0][:,0,:].numpy()\n",
    "\n",
    "labels = df.is_sarcastic"
   ]
  },
  {
   "cell_type": "code",
   "execution_count": 40,
   "metadata": {},
   "outputs": [
    {
     "name": "stdout",
     "output_type": "stream",
     "text": [
      "Best C: 10\n"
     ]
    },
    {
     "data": {
      "text/plain": [
       "0.8124068372753254"
      ]
     },
     "execution_count": 40,
     "metadata": {},
     "output_type": "execute_result"
    }
   ],
   "source": [
    "X_train, X_test, y_train, y_test = train_test_split(features,  labels,\n",
    "                                                    random_state=42, train_size=0.70, test_size = 0.30)\n",
    "pipe = make_pipeline( LogisticRegression(max_iter = 10000))\n",
    "param_grid = {\"logisticregression__C\": [0.001, 0.01, 0.1, 1, 10, 100, 1000]}\n",
    "grid = GridSearchCV(pipe, param_grid = param_grid,return_train_score = True, cv=5, scoring='roc_auc')\n",
    "grid.fit(X_train, y_train)\n",
    "print('Best C:', grid.best_estimator_.get_params()['logisticregression__C'])\n",
    "roc_auc_score(y_test, grid.predict(X_test))"
   ]
  },
  {
   "cell_type": "code",
   "execution_count": 41,
   "metadata": {},
   "outputs": [
    {
     "name": "stdout",
     "output_type": "stream",
     "text": [
      "              precision    recall  f1-score   support\n",
      "\n",
      "           0       0.85      0.89      0.87      2485\n",
      "           1       0.80      0.73      0.77      1494\n",
      "\n",
      "    accuracy                           0.83      3979\n",
      "   macro avg       0.82      0.81      0.82      3979\n",
      "weighted avg       0.83      0.83      0.83      3979\n",
      "\n"
     ]
    }
   ],
   "source": [
    "print(classification_report(y_test, grid.predict(X_test)))"
   ]
  }
 ],
 "metadata": {
  "kernelspec": {
   "display_name": "Python 3",
   "language": "python",
   "name": "python3"
  },
  "language_info": {
   "codemirror_mode": {
    "name": "ipython",
    "version": 3
   },
   "file_extension": ".py",
   "mimetype": "text/x-python",
   "name": "python",
   "nbconvert_exporter": "python",
   "pygments_lexer": "ipython3",
   "version": "3.8.5"
  }
 },
 "nbformat": 4,
 "nbformat_minor": 4
}
