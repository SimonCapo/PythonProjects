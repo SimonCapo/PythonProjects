{
 "cells": [
  {
   "cell_type": "code",
   "execution_count": 1,
   "metadata": {
    "colab": {
     "base_uri": "https://localhost:8080/",
     "height": 381
    },
    "id": "ajUCJ_lI-NCh",
    "outputId": "5e75874d-3d75-4eab-d0cb-707f68f1b7a4"
   },
   "outputs": [],
   "source": [
    "import pandas as pd\n",
    "import numpy as np \n",
    "import surprise\n",
    "from surprise import SVD\n",
    "import matplotlib.pyplot as plt\n",
    "\n",
    "import random\n",
    "\n",
    "from surprise import SVD\n",
    "from surprise import Dataset\n",
    "from surprise import accuracy\n",
    "from surprise.model_selection import GridSearchCV, split\n",
    "\n",
    "from surprise import KNNBasic\n"
   ]
  },
  {
   "cell_type": "code",
   "execution_count": 2,
   "metadata": {
    "colab": {
     "base_uri": "https://localhost:8080/",
     "height": 404
    },
    "id": "Nzv72nUI-NCi",
    "outputId": "b1aaf6bb-b2b4-4ffa-b810-de5002ef453b"
   },
   "outputs": [],
   "source": [
    "df_books = pd.read_csv(\"books.csv\")\n",
    "df_ratings = pd.read_csv('ratings.csv')"
   ]
  },
  {
   "cell_type": "markdown",
   "metadata": {
    "id": "7TiRocIB-NCj"
   },
   "source": [
    "## EDA"
   ]
  },
  {
   "cell_type": "code",
   "execution_count": 3,
   "metadata": {
    "id": "LHStQlIZ-NCj"
   },
   "outputs": [
    {
     "data": {
      "text/plain": [
       "(10000, 23)"
      ]
     },
     "execution_count": 3,
     "metadata": {},
     "output_type": "execute_result"
    }
   ],
   "source": [
    "df_books.shape"
   ]
  },
  {
   "cell_type": "code",
   "execution_count": 4,
   "metadata": {},
   "outputs": [
    {
     "data": {
      "text/html": [
       "<div>\n",
       "<style scoped>\n",
       "    .dataframe tbody tr th:only-of-type {\n",
       "        vertical-align: middle;\n",
       "    }\n",
       "\n",
       "    .dataframe tbody tr th {\n",
       "        vertical-align: top;\n",
       "    }\n",
       "\n",
       "    .dataframe thead th {\n",
       "        text-align: right;\n",
       "    }\n",
       "</style>\n",
       "<table border=\"1\" class=\"dataframe\">\n",
       "  <thead>\n",
       "    <tr style=\"text-align: right;\">\n",
       "      <th></th>\n",
       "      <th>book_id</th>\n",
       "      <th>goodreads_book_id</th>\n",
       "      <th>best_book_id</th>\n",
       "      <th>work_id</th>\n",
       "      <th>books_count</th>\n",
       "      <th>isbn</th>\n",
       "      <th>isbn13</th>\n",
       "      <th>authors</th>\n",
       "      <th>original_publication_year</th>\n",
       "      <th>original_title</th>\n",
       "      <th>...</th>\n",
       "      <th>ratings_count</th>\n",
       "      <th>work_ratings_count</th>\n",
       "      <th>work_text_reviews_count</th>\n",
       "      <th>ratings_1</th>\n",
       "      <th>ratings_2</th>\n",
       "      <th>ratings_3</th>\n",
       "      <th>ratings_4</th>\n",
       "      <th>ratings_5</th>\n",
       "      <th>image_url</th>\n",
       "      <th>small_image_url</th>\n",
       "    </tr>\n",
       "  </thead>\n",
       "  <tbody>\n",
       "    <tr>\n",
       "      <th>0</th>\n",
       "      <td>1</td>\n",
       "      <td>2767052</td>\n",
       "      <td>2767052</td>\n",
       "      <td>2792775</td>\n",
       "      <td>272</td>\n",
       "      <td>439023483</td>\n",
       "      <td>9.780439e+12</td>\n",
       "      <td>Suzanne Collins</td>\n",
       "      <td>2008.0</td>\n",
       "      <td>The Hunger Games</td>\n",
       "      <td>...</td>\n",
       "      <td>4780653</td>\n",
       "      <td>4942365</td>\n",
       "      <td>155254</td>\n",
       "      <td>66715</td>\n",
       "      <td>127936</td>\n",
       "      <td>560092</td>\n",
       "      <td>1481305</td>\n",
       "      <td>2706317</td>\n",
       "      <td>https://images.gr-assets.com/books/1447303603m...</td>\n",
       "      <td>https://images.gr-assets.com/books/1447303603s...</td>\n",
       "    </tr>\n",
       "    <tr>\n",
       "      <th>1</th>\n",
       "      <td>2</td>\n",
       "      <td>3</td>\n",
       "      <td>3</td>\n",
       "      <td>4640799</td>\n",
       "      <td>491</td>\n",
       "      <td>439554934</td>\n",
       "      <td>9.780440e+12</td>\n",
       "      <td>J.K. Rowling, Mary GrandPré</td>\n",
       "      <td>1997.0</td>\n",
       "      <td>Harry Potter and the Philosopher's Stone</td>\n",
       "      <td>...</td>\n",
       "      <td>4602479</td>\n",
       "      <td>4800065</td>\n",
       "      <td>75867</td>\n",
       "      <td>75504</td>\n",
       "      <td>101676</td>\n",
       "      <td>455024</td>\n",
       "      <td>1156318</td>\n",
       "      <td>3011543</td>\n",
       "      <td>https://images.gr-assets.com/books/1474154022m...</td>\n",
       "      <td>https://images.gr-assets.com/books/1474154022s...</td>\n",
       "    </tr>\n",
       "    <tr>\n",
       "      <th>2</th>\n",
       "      <td>3</td>\n",
       "      <td>41865</td>\n",
       "      <td>41865</td>\n",
       "      <td>3212258</td>\n",
       "      <td>226</td>\n",
       "      <td>316015849</td>\n",
       "      <td>9.780316e+12</td>\n",
       "      <td>Stephenie Meyer</td>\n",
       "      <td>2005.0</td>\n",
       "      <td>Twilight</td>\n",
       "      <td>...</td>\n",
       "      <td>3866839</td>\n",
       "      <td>3916824</td>\n",
       "      <td>95009</td>\n",
       "      <td>456191</td>\n",
       "      <td>436802</td>\n",
       "      <td>793319</td>\n",
       "      <td>875073</td>\n",
       "      <td>1355439</td>\n",
       "      <td>https://images.gr-assets.com/books/1361039443m...</td>\n",
       "      <td>https://images.gr-assets.com/books/1361039443s...</td>\n",
       "    </tr>\n",
       "    <tr>\n",
       "      <th>3</th>\n",
       "      <td>4</td>\n",
       "      <td>2657</td>\n",
       "      <td>2657</td>\n",
       "      <td>3275794</td>\n",
       "      <td>487</td>\n",
       "      <td>61120081</td>\n",
       "      <td>9.780061e+12</td>\n",
       "      <td>Harper Lee</td>\n",
       "      <td>1960.0</td>\n",
       "      <td>To Kill a Mockingbird</td>\n",
       "      <td>...</td>\n",
       "      <td>3198671</td>\n",
       "      <td>3340896</td>\n",
       "      <td>72586</td>\n",
       "      <td>60427</td>\n",
       "      <td>117415</td>\n",
       "      <td>446835</td>\n",
       "      <td>1001952</td>\n",
       "      <td>1714267</td>\n",
       "      <td>https://images.gr-assets.com/books/1361975680m...</td>\n",
       "      <td>https://images.gr-assets.com/books/1361975680s...</td>\n",
       "    </tr>\n",
       "    <tr>\n",
       "      <th>4</th>\n",
       "      <td>5</td>\n",
       "      <td>4671</td>\n",
       "      <td>4671</td>\n",
       "      <td>245494</td>\n",
       "      <td>1356</td>\n",
       "      <td>743273567</td>\n",
       "      <td>9.780743e+12</td>\n",
       "      <td>F. Scott Fitzgerald</td>\n",
       "      <td>1925.0</td>\n",
       "      <td>The Great Gatsby</td>\n",
       "      <td>...</td>\n",
       "      <td>2683664</td>\n",
       "      <td>2773745</td>\n",
       "      <td>51992</td>\n",
       "      <td>86236</td>\n",
       "      <td>197621</td>\n",
       "      <td>606158</td>\n",
       "      <td>936012</td>\n",
       "      <td>947718</td>\n",
       "      <td>https://images.gr-assets.com/books/1490528560m...</td>\n",
       "      <td>https://images.gr-assets.com/books/1490528560s...</td>\n",
       "    </tr>\n",
       "  </tbody>\n",
       "</table>\n",
       "<p>5 rows × 23 columns</p>\n",
       "</div>"
      ],
      "text/plain": [
       "   book_id  goodreads_book_id  best_book_id  work_id  books_count       isbn  \\\n",
       "0        1            2767052       2767052  2792775          272  439023483   \n",
       "1        2                  3             3  4640799          491  439554934   \n",
       "2        3              41865         41865  3212258          226  316015849   \n",
       "3        4               2657          2657  3275794          487   61120081   \n",
       "4        5               4671          4671   245494         1356  743273567   \n",
       "\n",
       "         isbn13                      authors  original_publication_year  \\\n",
       "0  9.780439e+12              Suzanne Collins                     2008.0   \n",
       "1  9.780440e+12  J.K. Rowling, Mary GrandPré                     1997.0   \n",
       "2  9.780316e+12              Stephenie Meyer                     2005.0   \n",
       "3  9.780061e+12                   Harper Lee                     1960.0   \n",
       "4  9.780743e+12          F. Scott Fitzgerald                     1925.0   \n",
       "\n",
       "                             original_title  ... ratings_count  \\\n",
       "0                          The Hunger Games  ...       4780653   \n",
       "1  Harry Potter and the Philosopher's Stone  ...       4602479   \n",
       "2                                  Twilight  ...       3866839   \n",
       "3                     To Kill a Mockingbird  ...       3198671   \n",
       "4                          The Great Gatsby  ...       2683664   \n",
       "\n",
       "  work_ratings_count  work_text_reviews_count  ratings_1  ratings_2  \\\n",
       "0            4942365                   155254      66715     127936   \n",
       "1            4800065                    75867      75504     101676   \n",
       "2            3916824                    95009     456191     436802   \n",
       "3            3340896                    72586      60427     117415   \n",
       "4            2773745                    51992      86236     197621   \n",
       "\n",
       "   ratings_3  ratings_4  ratings_5  \\\n",
       "0     560092    1481305    2706317   \n",
       "1     455024    1156318    3011543   \n",
       "2     793319     875073    1355439   \n",
       "3     446835    1001952    1714267   \n",
       "4     606158     936012     947718   \n",
       "\n",
       "                                           image_url  \\\n",
       "0  https://images.gr-assets.com/books/1447303603m...   \n",
       "1  https://images.gr-assets.com/books/1474154022m...   \n",
       "2  https://images.gr-assets.com/books/1361039443m...   \n",
       "3  https://images.gr-assets.com/books/1361975680m...   \n",
       "4  https://images.gr-assets.com/books/1490528560m...   \n",
       "\n",
       "                                     small_image_url  \n",
       "0  https://images.gr-assets.com/books/1447303603s...  \n",
       "1  https://images.gr-assets.com/books/1474154022s...  \n",
       "2  https://images.gr-assets.com/books/1361039443s...  \n",
       "3  https://images.gr-assets.com/books/1361975680s...  \n",
       "4  https://images.gr-assets.com/books/1490528560s...  \n",
       "\n",
       "[5 rows x 23 columns]"
      ]
     },
     "execution_count": 4,
     "metadata": {},
     "output_type": "execute_result"
    }
   ],
   "source": [
    "df_books.head()"
   ]
  },
  {
   "cell_type": "code",
   "execution_count": 5,
   "metadata": {
    "id": "1VsTliKj-NCk"
   },
   "outputs": [
    {
     "data": {
      "text/html": [
       "<div>\n",
       "<style scoped>\n",
       "    .dataframe tbody tr th:only-of-type {\n",
       "        vertical-align: middle;\n",
       "    }\n",
       "\n",
       "    .dataframe tbody tr th {\n",
       "        vertical-align: top;\n",
       "    }\n",
       "\n",
       "    .dataframe thead th {\n",
       "        text-align: right;\n",
       "    }\n",
       "</style>\n",
       "<table border=\"1\" class=\"dataframe\">\n",
       "  <thead>\n",
       "    <tr style=\"text-align: right;\">\n",
       "      <th></th>\n",
       "      <th>user_id</th>\n",
       "      <th>book_id</th>\n",
       "      <th>rating</th>\n",
       "    </tr>\n",
       "  </thead>\n",
       "  <tbody>\n",
       "    <tr>\n",
       "      <th>0</th>\n",
       "      <td>1</td>\n",
       "      <td>258</td>\n",
       "      <td>5</td>\n",
       "    </tr>\n",
       "    <tr>\n",
       "      <th>1</th>\n",
       "      <td>2</td>\n",
       "      <td>4081</td>\n",
       "      <td>4</td>\n",
       "    </tr>\n",
       "    <tr>\n",
       "      <th>2</th>\n",
       "      <td>2</td>\n",
       "      <td>260</td>\n",
       "      <td>5</td>\n",
       "    </tr>\n",
       "    <tr>\n",
       "      <th>3</th>\n",
       "      <td>2</td>\n",
       "      <td>9296</td>\n",
       "      <td>5</td>\n",
       "    </tr>\n",
       "    <tr>\n",
       "      <th>4</th>\n",
       "      <td>2</td>\n",
       "      <td>2318</td>\n",
       "      <td>3</td>\n",
       "    </tr>\n",
       "  </tbody>\n",
       "</table>\n",
       "</div>"
      ],
      "text/plain": [
       "   user_id  book_id  rating\n",
       "0        1      258       5\n",
       "1        2     4081       4\n",
       "2        2      260       5\n",
       "3        2     9296       5\n",
       "4        2     2318       3"
      ]
     },
     "execution_count": 5,
     "metadata": {},
     "output_type": "execute_result"
    }
   ],
   "source": [
    "df_ratings.head()"
   ]
  },
  {
   "cell_type": "code",
   "execution_count": 6,
   "metadata": {},
   "outputs": [
    {
     "name": "stdout",
     "output_type": "stream",
     "text": [
      "\n",
      "---------- books -----------\n",
      "<class 'pandas.core.frame.DataFrame'>\n",
      "RangeIndex: 10000 entries, 0 to 9999\n",
      "Data columns (total 23 columns):\n",
      " #   Column                     Non-Null Count  Dtype  \n",
      "---  ------                     --------------  -----  \n",
      " 0   book_id                    10000 non-null  int64  \n",
      " 1   goodreads_book_id          10000 non-null  int64  \n",
      " 2   best_book_id               10000 non-null  int64  \n",
      " 3   work_id                    10000 non-null  int64  \n",
      " 4   books_count                10000 non-null  int64  \n",
      " 5   isbn                       9300 non-null   object \n",
      " 6   isbn13                     9415 non-null   float64\n",
      " 7   authors                    10000 non-null  object \n",
      " 8   original_publication_year  9979 non-null   float64\n",
      " 9   original_title             9415 non-null   object \n",
      " 10  title                      10000 non-null  object \n",
      " 11  language_code              8916 non-null   object \n",
      " 12  average_rating             10000 non-null  float64\n",
      " 13  ratings_count              10000 non-null  int64  \n",
      " 14  work_ratings_count         10000 non-null  int64  \n",
      " 15  work_text_reviews_count    10000 non-null  int64  \n",
      " 16  ratings_1                  10000 non-null  int64  \n",
      " 17  ratings_2                  10000 non-null  int64  \n",
      " 18  ratings_3                  10000 non-null  int64  \n",
      " 19  ratings_4                  10000 non-null  int64  \n",
      " 20  ratings_5                  10000 non-null  int64  \n",
      " 21  image_url                  10000 non-null  object \n",
      " 22  small_image_url            10000 non-null  object \n",
      "dtypes: float64(3), int64(13), object(7)\n",
      "memory usage: 1.8+ MB\n",
      "None\n",
      "\n",
      "---------- ratings -----------\n",
      "<class 'pandas.core.frame.DataFrame'>\n",
      "RangeIndex: 5976479 entries, 0 to 5976478\n",
      "Data columns (total 3 columns):\n",
      " #   Column   Dtype\n",
      "---  ------   -----\n",
      " 0   user_id  int64\n",
      " 1   book_id  int64\n",
      " 2   rating   int64\n",
      "dtypes: int64(3)\n",
      "memory usage: 136.8 MB\n",
      "None\n"
     ]
    }
   ],
   "source": [
    "# checking data type & missing values\n",
    "\n",
    "print(\"\\n---------- books -----------\")\n",
    "print(df_books.info())\n",
    "print(\"\\n---------- ratings -----------\")\n",
    "print(df_ratings.info())"
   ]
  },
  {
   "cell_type": "code",
   "execution_count": 7,
   "metadata": {},
   "outputs": [
    {
     "name": "stdout",
     "output_type": "stream",
     "text": [
      "Number of uniq user count 53424\n",
      "Average rating count per user 111.86880428271938\n"
     ]
    },
    {
     "data": {
      "text/plain": [
       "<AxesSubplot:>"
      ]
     },
     "execution_count": 7,
     "metadata": {},
     "output_type": "execute_result"
    },
    {
     "data": {
      "image/png": "[encoded data removed]",
      "text/plain": [
       "<Figure size 432x288 with 1 Axes>"
      ]
     },
     "metadata": {
      "needs_background": "light"
     },
     "output_type": "display_data"
    }
   ],
   "source": [
    "# check the user counts and rating count per user\n",
    "\n",
    "print(\"Number of uniq user count\", len(df_ratings.user_id.unique()))\n",
    "print(\"Average rating count per user\", len(df_ratings) / len(df_ratings.user_id.unique()))\n",
    "\n",
    "df_ratings_grouped = df_ratings.groupby(\"user_id\").count()['rating']\n",
    "(df_ratings_grouped).hist()"
   ]
  },
  {
   "cell_type": "code",
   "execution_count": 8,
   "metadata": {},
   "outputs": [
    {
     "data": {
      "text/plain": [
       "<AxesSubplot:>"
      ]
     },
     "execution_count": 8,
     "metadata": {},
     "output_type": "execute_result"
    },
    {
     "data": {
      "image/png": "[encoded data removed]",
      "text/plain": [
       "<Figure size 432x288 with 1 Axes>"
      ]
     },
     "metadata": {
      "needs_background": "light"
     },
     "output_type": "display_data"
    }
   ],
   "source": [
    "# check rating scores\n",
    "\n",
    "df_ratings_grouped = df_ratings.groupby(\"user_id\").mean()['rating']\n",
    "(df_ratings_grouped).hist()"
   ]
  },
  {
   "cell_type": "code",
   "execution_count": 9,
   "metadata": {},
   "outputs": [
    {
     "name": "stdout",
     "output_type": "stream",
     "text": [
      "Top 5 books by rating_counts\n"
     ]
    },
    {
     "data": {
      "text/html": [
       "<div>\n",
       "<style scoped>\n",
       "    .dataframe tbody tr th:only-of-type {\n",
       "        vertical-align: middle;\n",
       "    }\n",
       "\n",
       "    .dataframe tbody tr th {\n",
       "        vertical-align: top;\n",
       "    }\n",
       "\n",
       "    .dataframe thead th {\n",
       "        text-align: right;\n",
       "    }\n",
       "</style>\n",
       "<table border=\"1\" class=\"dataframe\">\n",
       "  <thead>\n",
       "    <tr style=\"text-align: right;\">\n",
       "      <th></th>\n",
       "      <th>title</th>\n",
       "      <th>ratings_count</th>\n",
       "    </tr>\n",
       "  </thead>\n",
       "  <tbody>\n",
       "    <tr>\n",
       "      <th>0</th>\n",
       "      <td>The Hunger Games (The Hunger Games, #1)</td>\n",
       "      <td>4780653</td>\n",
       "    </tr>\n",
       "    <tr>\n",
       "      <th>1</th>\n",
       "      <td>Harry Potter and the Sorcerer's Stone (Harry P...</td>\n",
       "      <td>4602479</td>\n",
       "    </tr>\n",
       "    <tr>\n",
       "      <th>2</th>\n",
       "      <td>Twilight (Twilight, #1)</td>\n",
       "      <td>3866839</td>\n",
       "    </tr>\n",
       "    <tr>\n",
       "      <th>3</th>\n",
       "      <td>To Kill a Mockingbird</td>\n",
       "      <td>3198671</td>\n",
       "    </tr>\n",
       "    <tr>\n",
       "      <th>4</th>\n",
       "      <td>The Great Gatsby</td>\n",
       "      <td>2683664</td>\n",
       "    </tr>\n",
       "  </tbody>\n",
       "</table>\n",
       "</div>"
      ],
      "text/plain": [
       "                                               title  ratings_count\n",
       "0            The Hunger Games (The Hunger Games, #1)        4780653\n",
       "1  Harry Potter and the Sorcerer's Stone (Harry P...        4602479\n",
       "2                            Twilight (Twilight, #1)        3866839\n",
       "3                              To Kill a Mockingbird        3198671\n",
       "4                                   The Great Gatsby        2683664"
      ]
     },
     "execution_count": 9,
     "metadata": {},
     "output_type": "execute_result"
    }
   ],
   "source": [
    "# check most rated books\n",
    "\n",
    "print(\"Top 5 books by rating_counts\")\n",
    "df_books[['title','ratings_count']].sort_values(by=['ratings_count'], ascending=False).head(5)"
   ]
  },
  {
   "cell_type": "code",
   "execution_count": 10,
   "metadata": {},
   "outputs": [
    {
     "name": "stdout",
     "output_type": "stream",
     "text": [
      "Top 5 books by average_rating\n"
     ]
    },
    {
     "data": {
      "text/html": [
       "<div>\n",
       "<style scoped>\n",
       "    .dataframe tbody tr th:only-of-type {\n",
       "        vertical-align: middle;\n",
       "    }\n",
       "\n",
       "    .dataframe tbody tr th {\n",
       "        vertical-align: top;\n",
       "    }\n",
       "\n",
       "    .dataframe thead th {\n",
       "        text-align: right;\n",
       "    }\n",
       "</style>\n",
       "<table border=\"1\" class=\"dataframe\">\n",
       "  <thead>\n",
       "    <tr style=\"text-align: right;\">\n",
       "      <th></th>\n",
       "      <th>title</th>\n",
       "      <th>average_rating</th>\n",
       "    </tr>\n",
       "  </thead>\n",
       "  <tbody>\n",
       "    <tr>\n",
       "      <th>3627</th>\n",
       "      <td>The Complete Calvin and Hobbes</td>\n",
       "      <td>4.82</td>\n",
       "    </tr>\n",
       "    <tr>\n",
       "      <th>3274</th>\n",
       "      <td>Harry Potter Boxed Set, Books 1-5 (Harry Potte...</td>\n",
       "      <td>4.77</td>\n",
       "    </tr>\n",
       "    <tr>\n",
       "      <th>861</th>\n",
       "      <td>Words of Radiance (The Stormlight Archive, #2)</td>\n",
       "      <td>4.77</td>\n",
       "    </tr>\n",
       "    <tr>\n",
       "      <th>8853</th>\n",
       "      <td>Mark of the Lion Trilogy</td>\n",
       "      <td>4.76</td>\n",
       "    </tr>\n",
       "    <tr>\n",
       "      <th>7946</th>\n",
       "      <td>ESV Study Bible</td>\n",
       "      <td>4.76</td>\n",
       "    </tr>\n",
       "  </tbody>\n",
       "</table>\n",
       "</div>"
      ],
      "text/plain": [
       "                                                  title  average_rating\n",
       "3627                     The Complete Calvin and Hobbes            4.82\n",
       "3274  Harry Potter Boxed Set, Books 1-5 (Harry Potte...            4.77\n",
       "861      Words of Radiance (The Stormlight Archive, #2)            4.77\n",
       "8853                           Mark of the Lion Trilogy            4.76\n",
       "7946                                    ESV Study Bible            4.76"
      ]
     },
     "execution_count": 10,
     "metadata": {},
     "output_type": "execute_result"
    }
   ],
   "source": [
    "# check highly rated books\n",
    "\n",
    "print(\"Top 5 books by average_rating\")\n",
    "df_books[['title','average_rating']].sort_values(by=['average_rating'], ascending=False).head(5)"
   ]
  },
  {
   "cell_type": "markdown",
   "metadata": {
    "id": "vUcZYQvX-NCl"
   },
   "source": [
    "## Recommendation Algorithms from Lecture 2"
   ]
  },
  {
   "cell_type": "markdown",
   "metadata": {
    "id": "Rxgy0hOK-NCm"
   },
   "source": [
    "KNN User Based"
   ]
  },
  {
   "cell_type": "code",
   "execution_count": 11,
   "metadata": {
    "id": "8cSIln2P-NCm"
   },
   "outputs": [],
   "source": [
    "# Reduce the dataset to 0.5%\n",
    "df_ratings_condensed = df_ratings.sample(frac = 0.005)\n",
    "data = surprise.Dataset.load_from_df(df_ratings_condensed[['user_id', 'book_id', 'rating']], surprise.Reader(rating_scale=(1, 5)))\n"
   ]
  },
  {
   "cell_type": "code",
   "execution_count": 12,
   "metadata": {
    "id": "cmdgc8oq-NCm"
   },
   "outputs": [
    {
     "name": "stdout",
     "output_type": "stream",
     "text": [
      "Computing the cosine similarity matrix...\n",
      "Done computing similarity matrix.\n",
      "Computing the cosine similarity matrix...\n",
      "Done computing similarity matrix.\n",
      "Computing the cosine similarity matrix...\n",
      "Done computing similarity matrix.\n",
      "Computing the cosine similarity matrix...\n",
      "Done computing similarity matrix.\n",
      "Computing the cosine similarity matrix...\n",
      "Done computing similarity matrix.\n",
      "Computing the cosine similarity matrix...\n",
      "Done computing similarity matrix.\n",
      "Computing the cosine similarity matrix...\n",
      "Done computing similarity matrix.\n",
      "Computing the cosine similarity matrix...\n",
      "Done computing similarity matrix.\n",
      "Computing the cosine similarity matrix...\n",
      "Done computing similarity matrix.\n",
      "Computing the cosine similarity matrix...\n",
      "Done computing similarity matrix.\n",
      "Computing the cosine similarity matrix...\n",
      "Done computing similarity matrix.\n",
      "Computing the cosine similarity matrix...\n",
      "Done computing similarity matrix.\n",
      "{'k': 1, 'sim_options': {'name': 'cosine', 'user_based': True}, 'user_based': True}\n"
     ]
    }
   ],
   "source": [
    "# performing grid search for KNN User Based\n",
    "\n",
    "param_grid = {'k': [1, 2, 5, 10],\n",
    "              'sim_options': {'name': ['cosine']},\n",
    "                              'user_based': [True]}\n",
    "grid = surprise.model_selection.search.GridSearchCV(KNNBasic, param_grid=param_grid, return_train_measures = True, cv=3)\n",
    "grid.fit(data)\n",
    "print(grid.best_params['rmse'])"
   ]
  },
  {
   "cell_type": "code",
   "execution_count": 13,
   "metadata": {
    "id": "lmrCKIgr-NCn"
   },
   "outputs": [],
   "source": [
    "results = pd.DataFrame(grid.cv_results)"
   ]
  },
  {
   "cell_type": "code",
   "execution_count": 14,
   "metadata": {},
   "outputs": [
    {
     "data": {
      "text/html": [
       "<div>\n",
       "<style scoped>\n",
       "    .dataframe tbody tr th:only-of-type {\n",
       "        vertical-align: middle;\n",
       "    }\n",
       "\n",
       "    .dataframe tbody tr th {\n",
       "        vertical-align: top;\n",
       "    }\n",
       "\n",
       "    .dataframe thead th {\n",
       "        text-align: right;\n",
       "    }\n",
       "</style>\n",
       "<table border=\"1\" class=\"dataframe\">\n",
       "  <thead>\n",
       "    <tr style=\"text-align: right;\">\n",
       "      <th></th>\n",
       "      <th>param_k</th>\n",
       "      <th>mean_test_rmse</th>\n",
       "      <th>std_test_rmse</th>\n",
       "      <th>mean_train_rmse</th>\n",
       "      <th>std_train_rmse</th>\n",
       "    </tr>\n",
       "    <tr>\n",
       "      <th>param_k</th>\n",
       "      <th></th>\n",
       "      <th></th>\n",
       "      <th></th>\n",
       "      <th></th>\n",
       "      <th></th>\n",
       "    </tr>\n",
       "  </thead>\n",
       "  <tbody>\n",
       "    <tr>\n",
       "      <th>1</th>\n",
       "      <td>1</td>\n",
       "      <td>0.992433</td>\n",
       "      <td>0.006646</td>\n",
       "      <td>1.145353</td>\n",
       "      <td>0.006529</td>\n",
       "    </tr>\n",
       "    <tr>\n",
       "      <th>2</th>\n",
       "      <td>2</td>\n",
       "      <td>0.992480</td>\n",
       "      <td>0.006648</td>\n",
       "      <td>0.950833</td>\n",
       "      <td>0.005531</td>\n",
       "    </tr>\n",
       "    <tr>\n",
       "      <th>5</th>\n",
       "      <td>5</td>\n",
       "      <td>0.992480</td>\n",
       "      <td>0.006648</td>\n",
       "      <td>0.841617</td>\n",
       "      <td>0.000876</td>\n",
       "    </tr>\n",
       "    <tr>\n",
       "      <th>10</th>\n",
       "      <td>10</td>\n",
       "      <td>0.992480</td>\n",
       "      <td>0.006648</td>\n",
       "      <td>0.813917</td>\n",
       "      <td>0.001103</td>\n",
       "    </tr>\n",
       "  </tbody>\n",
       "</table>\n",
       "</div>"
      ],
      "text/plain": [
       "         param_k  mean_test_rmse  std_test_rmse  mean_train_rmse  \\\n",
       "param_k                                                            \n",
       "1              1        0.992433       0.006646         1.145353   \n",
       "2              2        0.992480       0.006648         0.950833   \n",
       "5              5        0.992480       0.006648         0.841617   \n",
       "10            10        0.992480       0.006648         0.813917   \n",
       "\n",
       "         std_train_rmse  \n",
       "param_k                  \n",
       "1              0.006529  \n",
       "2              0.005531  \n",
       "5              0.000876  \n",
       "10             0.001103  "
      ]
     },
     "execution_count": 14,
     "metadata": {},
     "output_type": "execute_result"
    }
   ],
   "source": [
    "groupedBy = results.groupby(\"param_k\").agg(\n",
    "    {\n",
    "        \"param_k\": \"mean\",\n",
    "        \"mean_test_rmse\": \"mean\",\n",
    "        \"std_test_rmse\": \"mean\",\n",
    "        \"mean_train_rmse\": \"mean\",\n",
    "        \"std_train_rmse\": \"max\",\n",
    "    }\n",
    ")\n",
    "groupedBy.head()"
   ]
  },
  {
   "cell_type": "code",
   "execution_count": 15,
   "metadata": {},
   "outputs": [
    {
     "data": {
      "text/plain": [
       "<matplotlib.collections.PolyCollection at 0x23183399a00>"
      ]
     },
     "execution_count": 15,
     "metadata": {},
     "output_type": "execute_result"
    },
    {
     "data": {
      "image/png": "[encoded data removed]",
      "text/plain": [
       "<Figure size 432x288 with 1 Axes>"
      ]
     },
     "metadata": {
      "needs_background": "light"
     },
     "output_type": "display_data"
    }
   ],
   "source": [
    "#plotting the grid search results on a train set\n",
    "groupedBy.plot('param_k', 'mean_train_rmse')\n",
    "\n",
    "plt.fill_between(groupedBy['param_k'].astype(np.int),\n",
    "                 groupedBy['mean_train_rmse'] + groupedBy['std_train_rmse'],\n",
    "                 groupedBy['mean_train_rmse'] - groupedBy['std_train_rmse'], alpha=0.2)"
   ]
  },
  {
   "cell_type": "code",
   "execution_count": 16,
   "metadata": {
    "id": "sP9oFN8Y-NCo"
   },
   "outputs": [
    {
     "data": {
      "text/plain": [
       "<matplotlib.collections.PolyCollection at 0x23180e5efd0>"
      ]
     },
     "execution_count": 16,
     "metadata": {},
     "output_type": "execute_result"
    },
    {
     "data": {
      "image/png": "[encoded data removed]",
      "text/plain": [
       "<Figure size 432x288 with 1 Axes>"
      ]
     },
     "metadata": {
      "needs_background": "light"
     },
     "output_type": "display_data"
    }
   ],
   "source": [
    "#plotting the grid search results on a validation set\n",
    "\n",
    "groupedBy.plot('param_k', 'mean_test_rmse', ax=plt.gca())\n",
    "\n",
    "plt.fill_between(groupedBy.param_k.astype(np.int),\n",
    "                 groupedBy['mean_test_rmse'] + groupedBy['std_test_rmse'],\n",
    "                 groupedBy['mean_test_rmse'] - groupedBy['std_test_rmse'], alpha=0.2)\n"
   ]
  },
  {
   "cell_type": "code",
   "execution_count": 17,
   "metadata": {},
   "outputs": [
    {
     "data": {
      "text/plain": [
       "0.9924332672583919"
      ]
     },
     "execution_count": 17,
     "metadata": {},
     "output_type": "execute_result"
    }
   ],
   "source": [
    "grid.best_score['rmse']"
   ]
  },
  {
   "cell_type": "markdown",
   "metadata": {
    "id": "N7W7HLLK-NCo"
   },
   "source": [
    "KNN Item Based"
   ]
  },
  {
   "cell_type": "code",
   "execution_count": 49,
   "metadata": {
    "id": "gx-d0wRc-NCp"
   },
   "outputs": [],
   "source": [
    "# reset (taking 10% of the dataset)\n",
    "df_ratings_condensed = df_ratings.sample(frac = 0.1)\n",
    "data = surprise.Dataset.load_from_df(df_ratings_condensed[['user_id', 'book_id', 'rating']], surprise.Reader(rating_scale=(1, 5)))\n"
   ]
  },
  {
   "cell_type": "code",
   "execution_count": 50,
   "metadata": {
    "id": "YTYw6trr-NCp"
   },
   "outputs": [
    {
     "name": "stdout",
     "output_type": "stream",
     "text": [
      "Computing the cosine similarity matrix...\n",
      "Done computing similarity matrix.\n",
      "Computing the cosine similarity matrix...\n",
      "Done computing similarity matrix.\n",
      "Computing the cosine similarity matrix...\n",
      "Done computing similarity matrix.\n",
      "Computing the cosine similarity matrix...\n",
      "Done computing similarity matrix.\n",
      "Computing the cosine similarity matrix...\n",
      "Done computing similarity matrix.\n",
      "Computing the cosine similarity matrix...\n",
      "Done computing similarity matrix.\n",
      "Computing the cosine similarity matrix...\n",
      "Done computing similarity matrix.\n",
      "Computing the cosine similarity matrix...\n",
      "Done computing similarity matrix.\n",
      "Computing the cosine similarity matrix...\n",
      "Done computing similarity matrix.\n",
      "Computing the cosine similarity matrix...\n",
      "Done computing similarity matrix.\n",
      "Computing the cosine similarity matrix...\n",
      "Done computing similarity matrix.\n",
      "Computing the cosine similarity matrix...\n",
      "Done computing similarity matrix.\n",
      "{'k': 10, 'sim_options': {'name': 'cosine', 'user_based': False}}\n"
     ]
    }
   ],
   "source": [
    "# performing grid search for KNN Item based\n",
    "\n",
    "param_grid = {'k':  [1, 2, 5, 10],\n",
    "              'sim_options': {'name': [ 'cosine'],\n",
    "                              'user_based': [False]}}\n",
    "grid = surprise.model_selection.search.GridSearchCV(KNNBasic, param_grid=param_grid, return_train_measures = True, cv=3)\n",
    "grid.fit(data)\n",
    "print(grid.best_params['rmse'])"
   ]
  },
  {
   "cell_type": "code",
   "execution_count": 51,
   "metadata": {
    "id": "1jFdJGSO-NCp"
   },
   "outputs": [],
   "source": [
    "results = pd.DataFrame(grid.cv_results)\n"
   ]
  },
  {
   "cell_type": "code",
   "execution_count": 52,
   "metadata": {
    "id": "4NCV9_EX-NCq"
   },
   "outputs": [
    {
     "data": {
      "text/html": [
       "<div>\n",
       "<style scoped>\n",
       "    .dataframe tbody tr th:only-of-type {\n",
       "        vertical-align: middle;\n",
       "    }\n",
       "\n",
       "    .dataframe tbody tr th {\n",
       "        vertical-align: top;\n",
       "    }\n",
       "\n",
       "    .dataframe thead th {\n",
       "        text-align: right;\n",
       "    }\n",
       "</style>\n",
       "<table border=\"1\" class=\"dataframe\">\n",
       "  <thead>\n",
       "    <tr style=\"text-align: right;\">\n",
       "      <th></th>\n",
       "      <th>param_k</th>\n",
       "      <th>mean_test_rmse</th>\n",
       "      <th>std_test_rmse</th>\n",
       "      <th>mean_train_rmse</th>\n",
       "      <th>std_train_rmse</th>\n",
       "    </tr>\n",
       "    <tr>\n",
       "      <th>param_k</th>\n",
       "      <th></th>\n",
       "      <th></th>\n",
       "      <th></th>\n",
       "      <th></th>\n",
       "      <th></th>\n",
       "    </tr>\n",
       "  </thead>\n",
       "  <tbody>\n",
       "    <tr>\n",
       "      <th>1</th>\n",
       "      <td>1</td>\n",
       "      <td>1.202249</td>\n",
       "      <td>0.001417</td>\n",
       "      <td>1.085169</td>\n",
       "      <td>0.001697</td>\n",
       "    </tr>\n",
       "    <tr>\n",
       "      <th>2</th>\n",
       "      <td>2</td>\n",
       "      <td>1.093518</td>\n",
       "      <td>0.001147</td>\n",
       "      <td>0.901493</td>\n",
       "      <td>0.001322</td>\n",
       "    </tr>\n",
       "    <tr>\n",
       "      <th>5</th>\n",
       "      <td>5</td>\n",
       "      <td>1.046700</td>\n",
       "      <td>0.001375</td>\n",
       "      <td>0.804825</td>\n",
       "      <td>0.000816</td>\n",
       "    </tr>\n",
       "    <tr>\n",
       "      <th>10</th>\n",
       "      <td>10</td>\n",
       "      <td>1.043111</td>\n",
       "      <td>0.001457</td>\n",
       "      <td>0.813537</td>\n",
       "      <td>0.001020</td>\n",
       "    </tr>\n",
       "  </tbody>\n",
       "</table>\n",
       "</div>"
      ],
      "text/plain": [
       "         param_k  mean_test_rmse  std_test_rmse  mean_train_rmse  \\\n",
       "param_k                                                            \n",
       "1              1        1.202249       0.001417         1.085169   \n",
       "2              2        1.093518       0.001147         0.901493   \n",
       "5              5        1.046700       0.001375         0.804825   \n",
       "10            10        1.043111       0.001457         0.813537   \n",
       "\n",
       "         std_train_rmse  \n",
       "param_k                  \n",
       "1              0.001697  \n",
       "2              0.001322  \n",
       "5              0.000816  \n",
       "10             0.001020  "
      ]
     },
     "execution_count": 52,
     "metadata": {},
     "output_type": "execute_result"
    }
   ],
   "source": [
    "groupedBy = results.groupby(\"param_k\").agg(\n",
    "    {\n",
    "        \"param_k\": \"mean\",\n",
    "        \"mean_test_rmse\": \"mean\",\n",
    "        \"std_test_rmse\": \"mean\",\n",
    "        \"mean_train_rmse\": \"mean\",\n",
    "        \"std_train_rmse\": \"max\",\n",
    "    }\n",
    ")\n",
    "groupedBy.head()"
   ]
  },
  {
   "cell_type": "code",
   "execution_count": 53,
   "metadata": {
    "id": "KcXJltF7-NCq"
   },
   "outputs": [
    {
     "data": {
      "text/plain": [
       "<matplotlib.collections.PolyCollection at 0x23183849760>"
      ]
     },
     "execution_count": 53,
     "metadata": {},
     "output_type": "execute_result"
    },
    {
     "data": {
      "image/png": "[encoded data removed]",
      "text/plain": [
       "<Figure size 432x288 with 1 Axes>"
      ]
     },
     "metadata": {
      "needs_background": "light"
     },
     "output_type": "display_data"
    }
   ],
   "source": [
    "#plotting the grid search results on a train set\n",
    "groupedBy.plot('param_k', 'mean_train_rmse')\n",
    "\n",
    "plt.fill_between(groupedBy['param_k'].astype(np.int),\n",
    "                 groupedBy['mean_train_rmse'] + groupedBy['std_train_rmse'],\n",
    "                 groupedBy['mean_train_rmse'] - groupedBy['std_train_rmse'], alpha=0.2)\n"
   ]
  },
  {
   "cell_type": "code",
   "execution_count": 54,
   "metadata": {
    "id": "D4vPs6KG-NCr"
   },
   "outputs": [
    {
     "data": {
      "text/plain": [
       "<matplotlib.collections.PolyCollection at 0x23265729bb0>"
      ]
     },
     "execution_count": 54,
     "metadata": {},
     "output_type": "execute_result"
    },
    {
     "data": {
      "image/png": "[encoded data removed]",
      "text/plain": [
       "<Figure size 432x288 with 1 Axes>"
      ]
     },
     "metadata": {
      "needs_background": "light"
     },
     "output_type": "display_data"
    }
   ],
   "source": [
    "#plotting the grid search results on a validation set\n",
    "\n",
    "groupedBy.plot('param_k', 'mean_test_rmse', ax=plt.gca())\n",
    "\n",
    "plt.fill_between(groupedBy.param_k.astype(np.int),\n",
    "                 groupedBy['mean_test_rmse'] + groupedBy['std_test_rmse'],\n",
    "                 groupedBy['mean_test_rmse'] - groupedBy['std_test_rmse'], alpha=0.2)"
   ]
  },
  {
   "cell_type": "code",
   "execution_count": 55,
   "metadata": {
    "id": "YHIsBxAy-NCr"
   },
   "outputs": [
    {
     "data": {
      "text/plain": [
       "1.0431109089790898"
      ]
     },
     "execution_count": 55,
     "metadata": {},
     "output_type": "execute_result"
    }
   ],
   "source": [
    "grid.best_score['rmse']"
   ]
  },
  {
   "cell_type": "markdown",
   "metadata": {},
   "source": [
    "Matrix Factorization"
   ]
  },
  {
   "cell_type": "code",
   "execution_count": 25,
   "metadata": {
    "id": "aHWoR83F-NCt"
   },
   "outputs": [],
   "source": [
    "#reduce training size because GridSearchCV is computationally heavy. \n",
    "#We randomly select 10% of the data to be used for cross validation and reserve 90% of the data for testing purposes,\n",
    "#to avoid leakage to the test set\n",
    "\n",
    "df_ratings_10 = df_ratings.sample(frac = 0.10, random_state = 42)\n",
    "df_ratings_90 = df_ratings.drop(df_ratings_10.index)\n",
    "data = surprise.Dataset.load_from_df(df_ratings_10[['user_id', 'book_id', 'rating']], surprise.Reader(rating_scale=(1, 5)))"
   ]
  },
  {
   "cell_type": "code",
   "execution_count": 26,
   "metadata": {
    "id": "76SPdqeZ-NCt"
   },
   "outputs": [
    {
     "name": "stdout",
     "output_type": "stream",
     "text": [
      "rmse:\n",
      "{'n_factors': 1, 'random_state': 42}\n",
      "mae:\n",
      "{'n_factors': 1, 'random_state': 42}\n"
     ]
    }
   ],
   "source": [
    "#Matrix Factorization using SGD. We tune the number of latent factors to extract from the data here\n",
    "#We use a random state so that are results are reproducible\n",
    "CV = surprise.model_selection.split.KFold(n_splits=5, random_state=42, shuffle=True)\n",
    "param_grid = {\"n_factors\": [1, 2, 5, 10, 20, 100], \"random_state\": [42]}\n",
    "grid = surprise.model_selection.search.GridSearchCV(SVD, \n",
    "                                                    param_grid = param_grid,return_train_measures = True,\n",
    "                                                    cv=CV, n_jobs = -2)\n",
    "grid.fit(data)\n",
    "\n",
    "print('rmse:')\n",
    "print(grid.best_params['rmse'])\n",
    "\n",
    "print('mae:')\n",
    "print(grid.best_params['mae'])"
   ]
  },
  {
   "cell_type": "code",
   "execution_count": 27,
   "metadata": {
    "id": "ggVVSfGZ-NCu"
   },
   "outputs": [
    {
     "data": {
      "text/plain": [
       "<matplotlib.legend.Legend at 0x2318072a850>"
      ]
     },
     "execution_count": 27,
     "metadata": {},
     "output_type": "execute_result"
    },
    {
     "data": {
      "image/png": "[encoded data removed]",
      "text/plain": [
       "<Figure size 432x288 with 1 Axes>"
      ]
     },
     "metadata": {
      "needs_background": "light"
     },
     "output_type": "display_data"
    }
   ],
   "source": [
    "#plotting the grid search results, code template courtesy of notebooks shared by the teacher for the ML class.\n",
    "#Relevant parameters adjusted to make it work with the surprise package\n",
    "#RMSE\n",
    "results = pd.DataFrame(grid.cv_results)\n",
    "results.plot('param_n_factors', 'mean_train_rmse')\n",
    "results.plot('param_n_factors', 'mean_test_rmse', ax=plt.gca())\n",
    "\n",
    "plt.fill_between(results.param_n_factors.astype(float),\n",
    "                 results['mean_train_rmse'] + results['std_train_rmse'],\n",
    "                 results['mean_train_rmse'] - results['std_train_rmse'], alpha=0.2)\n",
    "plt.fill_between(results.param_n_factors.astype(float),\n",
    "                 results['mean_test_rmse'] + results['std_test_rmse'],\n",
    "                 results['mean_test_rmse'] - results['std_test_rmse'], alpha=0.2)\n",
    "plt.legend()\n",
    "\n"
   ]
  },
  {
   "cell_type": "code",
   "execution_count": 28,
   "metadata": {
    "id": "bkwEqRcf-NCu"
   },
   "outputs": [
    {
     "data": {
      "text/plain": [
       "<matplotlib.legend.Legend at 0x231821ca880>"
      ]
     },
     "execution_count": 28,
     "metadata": {},
     "output_type": "execute_result"
    },
    {
     "data": {
      "image/png": "[encoded data removed]",
      "text/plain": [
       "<Figure size 432x288 with 1 Axes>"
      ]
     },
     "metadata": {
      "needs_background": "light"
     },
     "output_type": "display_data"
    }
   ],
   "source": [
    "#MAE\n",
    "results = pd.DataFrame(grid.cv_results)\n",
    "results.plot('param_n_factors', 'mean_train_mae')\n",
    "results.plot('param_n_factors', 'mean_test_mae', ax=plt.gca())\n",
    "\n",
    "plt.fill_between(results.param_n_factors.astype(float),\n",
    "                 results['mean_train_mae'] + results['std_train_mae'],\n",
    "                 results['mean_train_mae'] - results['std_train_mae'], alpha=0.2)\n",
    "plt.fill_between(results.param_n_factors.astype(float),\n",
    "                 results['mean_test_mae'] + results['std_test_mae'],\n",
    "                 results['mean_test_mae'] - results['std_test_mae'], alpha=0.2)\n",
    "plt.legend()"
   ]
  },
  {
   "cell_type": "markdown",
   "metadata": {
    "id": "QH4SpvRr-NCv"
   },
   "source": [
    "a very small number of factors already results in good test results. Increasing the number of factors results in overfitting (low RMSE on the train set but no improvement on the validation set)."
   ]
  },
  {
   "cell_type": "code",
   "execution_count": 29,
   "metadata": {
    "id": "XhcKHHfP-NCv"
   },
   "outputs": [
    {
     "name": "stdout",
     "output_type": "stream",
     "text": [
      "rmse:\n",
      "{'reg_all': 0.2}\n",
      "mae:\n",
      "{'reg_all': 0.2}\n"
     ]
    }
   ],
   "source": [
    "#tuning another SVD parameter, the regularization term\n",
    "param_grid = {\"reg_all\": [0,0.02, 0.04, 0.10, 0.20, 0.30, 0.50, 1,2,3,4] }\n",
    "grid = surprise.model_selection.search.GridSearchCV(SVD, param_grid = param_grid,return_train_measures = True,\n",
    "                                                    cv=CV, n_jobs = -2)\n",
    "grid.fit(data)\n",
    "print('rmse:')\n",
    "print(grid.best_params['rmse'])\n",
    "\n",
    "print('mae:')\n",
    "print(grid.best_params['mae'])"
   ]
  },
  {
   "cell_type": "code",
   "execution_count": 30,
   "metadata": {
    "id": "I7Rj0VMF-NCv"
   },
   "outputs": [
    {
     "data": {
      "text/plain": [
       "<matplotlib.legend.Legend at 0x2318071d460>"
      ]
     },
     "execution_count": 30,
     "metadata": {},
     "output_type": "execute_result"
    },
    {
     "data": {
      "image/png": "[encoded data removed]",
      "text/plain": [
       "<Figure size 432x288 with 1 Axes>"
      ]
     },
     "metadata": {
      "needs_background": "light"
     },
     "output_type": "display_data"
    }
   ],
   "source": [
    "#plotting the GridSearch results for RMSE\n",
    "results = pd.DataFrame(grid.cv_results)\n",
    "results.plot('param_reg_all', 'mean_train_rmse')\n",
    "results.plot('param_reg_all', 'mean_test_rmse', ax=plt.gca())\n",
    "\n",
    "plt.fill_between(results.param_reg_all.astype(float),\n",
    "                 results['mean_train_rmse'] + results['std_train_rmse'],\n",
    "                 results['mean_train_rmse'] - results['std_train_rmse'], alpha=0.2)\n",
    "plt.fill_between(results.param_reg_all.astype(float),\n",
    "                 results['mean_test_rmse'] + results['std_test_rmse'],\n",
    "                 results['mean_test_rmse'] - results['std_test_rmse'], alpha=0.2)\n",
    "plt.legend()\n"
   ]
  },
  {
   "cell_type": "code",
   "execution_count": 31,
   "metadata": {
    "id": "dGi9BVNK-NCw"
   },
   "outputs": [
    {
     "data": {
      "text/plain": [
       "<matplotlib.legend.Legend at 0x2318275d460>"
      ]
     },
     "execution_count": 31,
     "metadata": {},
     "output_type": "execute_result"
    },
    {
     "data": {
      "image/png": "[encoded data removed]",
      "text/plain": [
       "<Figure size 432x288 with 1 Axes>"
      ]
     },
     "metadata": {
      "needs_background": "light"
     },
     "output_type": "display_data"
    }
   ],
   "source": [
    "#MAE\n",
    "results = pd.DataFrame(grid.cv_results)\n",
    "results.plot('param_reg_all', 'mean_train_mae')\n",
    "results.plot('param_reg_all', 'mean_test_mae', ax=plt.gca())\n",
    "\n",
    "plt.fill_between(results.param_reg_all.astype(float),\n",
    "                 results['mean_train_mae'] + results['std_train_mae'],\n",
    "                 results['mean_train_mae'] - results['std_train_mae'], alpha=0.2)\n",
    "plt.fill_between(results.param_reg_all.astype(float),\n",
    "                 results['mean_test_mae'] + results['std_test_mae'],\n",
    "                 results['mean_test_mae'] - results['std_test_mae'], alpha=0.2)\n",
    "plt.legend()"
   ]
  },
  {
   "cell_type": "code",
   "execution_count": 32,
   "metadata": {
    "id": "vRT9ALE2-NCw"
   },
   "outputs": [
    {
     "name": "stdout",
     "output_type": "stream",
     "text": [
      "0.8941602811324973\n",
      "{'reg_all': 0.02, 'n_factors': 1}\n"
     ]
    }
   ],
   "source": [
    "#re-running the gridsearch with both parameters included (number of parameters and cross validation minimized due to\n",
    "#computational restrictions)\n",
    "param_grid = {\"reg_all\": [ 0.02, 0.2, 0.3], \"n_factors\": [ 1, 2, 5, 100] }\n",
    "grid = surprise.model_selection.search.GridSearchCV(SVD, param_grid = param_grid,return_train_measures = True,\n",
    "                                                    cv=CV, n_jobs = -2)\n",
    "grid.fit(data)\n",
    "\n",
    "# best RMSE score of the model with the optimal parameters\n",
    "print(grid.best_score['rmse'])\n",
    "\n",
    "# combination of parameters that gave the best RMSE score\n",
    "print(grid.best_params['rmse'])\n"
   ]
  },
  {
   "cell_type": "code",
   "execution_count": 33,
   "metadata": {
    "id": "G1oOMPGy-NCx"
   },
   "outputs": [],
   "source": [
    "#using the rest of the data (90%)\n",
    "data = surprise.Dataset.load_from_df(df_ratings_90[['user_id', 'book_id', 'rating']], surprise.Reader(rating_scale=(1, 5)))\n",
    "train, test = surprise.model_selection.train_test_split(data, train_size=0.75, test_size=.25)"
   ]
  },
  {
   "cell_type": "code",
   "execution_count": 34,
   "metadata": {
    "id": "IGCzYuOV-NCx"
   },
   "outputs": [
    {
     "name": "stdout",
     "output_type": "stream",
     "text": [
      "RMSE: 0.8530\n",
      "MAE:  0.6653\n",
      "this program ran for 2.587093957265218 minutes\n"
     ]
    }
   ],
   "source": [
    "import time\n",
    "\n",
    "start_time = time.time()\n",
    "\n",
    "# Train the algorithm on the full dataset with the optimal parameters\n",
    "algo = SVD(n_factors=1, reg_all=0.02, random_state = 42)\n",
    "algo.fit(train)\n",
    "predictions = algo.test(test)\n",
    "\n",
    "# Then compute RMSE/MAE\n",
    "surprise.accuracy.rmse(predictions)\n",
    "surprise.accuracy.mae(predictions)\n",
    "\n",
    "#calculate runtime\n",
    "end_time = time.time()\n",
    "runtime = (end_time - start_time)/60\n",
    "print('this program ran for', runtime, 'minutes')"
   ]
  },
  {
   "cell_type": "code",
   "execution_count": 35,
   "metadata": {
    "id": "OnRGx_14-NCx"
   },
   "outputs": [
    {
     "name": "stdout",
     "output_type": "stream",
     "text": [
      "RMSE: 0.8404\n",
      "MAE:  0.6505\n",
      "this program ran for 7.348831343650818 minutes\n"
     ]
    }
   ],
   "source": [
    "start_time = time.time()\n",
    "\n",
    "# Train the algorithm on the full dataset with the optimal parameters\n",
    "algo = SVD(n_factors=100, reg_all=0.02, random_state = 42)\n",
    "algo.fit(train)\n",
    "predictions = algo.test(test)\n",
    "\n",
    "# Then compute RMSE\n",
    "surprise.accuracy.rmse(predictions)\n",
    "surprise.accuracy.mae(predictions)\n",
    "\n",
    "end_time = time.time()\n",
    "runtime = (end_time - start_time)/60\n",
    "print('this program ran for', runtime, 'minutes')"
   ]
  },
  {
   "cell_type": "markdown",
   "metadata": {
    "id": "Tml8Ls9Z-NCy"
   },
   "source": [
    "After all, the default values of SVD (100 factors, reg_all = 0.02) have the best performance when trained on the full dataset. Increasing the number of factors increases computing time. Overall, the computing time is still very reasonable comparing to KNN."
   ]
  },
  {
   "cell_type": "code",
   "execution_count": 36,
   "metadata": {
    "id": "vHzST1LZ-NCy"
   },
   "outputs": [
    {
     "data": {
      "text/plain": [
       "<surprise.prediction_algorithms.matrix_factorization.SVD at 0x2318384e0d0>"
      ]
     },
     "execution_count": 36,
     "metadata": {},
     "output_type": "execute_result"
    }
   ],
   "source": [
    "# Now train on full dataset\n",
    "data = surprise.Dataset.load_from_df(df_ratings[['user_id', 'book_id', 'rating']], surprise.Reader(rating_scale=(1, 5)))\n",
    "train_full = data.build_full_trainset()\n",
    "algo.fit(train_full)"
   ]
  },
  {
   "cell_type": "markdown",
   "metadata": {},
   "source": [
    "# Predictions test"
   ]
  },
  {
   "cell_type": "code",
   "execution_count": 37,
   "metadata": {},
   "outputs": [],
   "source": [
    "#preductions for one of the team members\n",
    "library = [\"book_id\", \"title\", \"authors\", 'average_rating']\n",
    "\n",
    "personal_rating =  [\n",
    "    { \"book_id\": 4, \"rating\": 5},\n",
    "    { \"book_id\": 5, \"rating\": 5},\n",
    "    { \"book_id\": 8, \"rating\": 5},\n",
    "    { \"book_id\": 26, \"rating\": 2},\n",
    "    { \"book_id\": 35, \"rating\": 2},\n",
    "    { \"book_id\": 43, \"rating\": 4},\n",
    "    { \"book_id\": 92, \"rating\": 4},\n",
    "    { \"book_id\": 103, \"rating\": 3},\n",
    "    { \"book_id\": 116 ,\"rating\": 5},\n",
    "    { \"book_id\": 121,\"rating\": 3},\n",
    "    { \"book_id\": 128 ,\"rating\": 2},\n",
    "    { \"book_id\": 146 ,\"rating\":4 },\n",
    "    { \"book_id\": 172 ,\"rating\":5 },\n",
    "    { \"book_id\": 173 ,\"rating\":5 },\n",
    "    { \"book_id\": 177 ,\"rating\":4 },\n",
    "    { \"book_id\": 179 ,\"rating\":2 },\n",
    "    { \"book_id\": 196 ,\"rating\":3 },\n",
    "    { \"book_id\": 408 ,\"rating\":4 },\n",
    "    \n",
    "]\n",
    "\n",
    "df_personal_rating = pd.DataFrame(personal_rating)\n",
    "df_personal_rating[\"user_id\"] = 99999"
   ]
  },
  {
   "cell_type": "code",
   "execution_count": 38,
   "metadata": {},
   "outputs": [
    {
     "data": {
      "text/html": [
       "<div>\n",
       "<style scoped>\n",
       "    .dataframe tbody tr th:only-of-type {\n",
       "        vertical-align: middle;\n",
       "    }\n",
       "\n",
       "    .dataframe tbody tr th {\n",
       "        vertical-align: top;\n",
       "    }\n",
       "\n",
       "    .dataframe thead th {\n",
       "        text-align: right;\n",
       "    }\n",
       "</style>\n",
       "<table border=\"1\" class=\"dataframe\">\n",
       "  <thead>\n",
       "    <tr style=\"text-align: right;\">\n",
       "      <th></th>\n",
       "      <th>user_id</th>\n",
       "      <th>book_id</th>\n",
       "      <th>rating</th>\n",
       "    </tr>\n",
       "  </thead>\n",
       "  <tbody>\n",
       "    <tr>\n",
       "      <th>5976472</th>\n",
       "      <td>23863</td>\n",
       "      <td>8020</td>\n",
       "      <td>4</td>\n",
       "    </tr>\n",
       "    <tr>\n",
       "      <th>5976473</th>\n",
       "      <td>49925</td>\n",
       "      <td>330</td>\n",
       "      <td>5</td>\n",
       "    </tr>\n",
       "    <tr>\n",
       "      <th>5976474</th>\n",
       "      <td>49925</td>\n",
       "      <td>510</td>\n",
       "      <td>5</td>\n",
       "    </tr>\n",
       "    <tr>\n",
       "      <th>5976475</th>\n",
       "      <td>49925</td>\n",
       "      <td>528</td>\n",
       "      <td>4</td>\n",
       "    </tr>\n",
       "    <tr>\n",
       "      <th>5976476</th>\n",
       "      <td>49925</td>\n",
       "      <td>722</td>\n",
       "      <td>4</td>\n",
       "    </tr>\n",
       "    <tr>\n",
       "      <th>5976477</th>\n",
       "      <td>49925</td>\n",
       "      <td>949</td>\n",
       "      <td>5</td>\n",
       "    </tr>\n",
       "    <tr>\n",
       "      <th>5976478</th>\n",
       "      <td>49925</td>\n",
       "      <td>1023</td>\n",
       "      <td>4</td>\n",
       "    </tr>\n",
       "    <tr>\n",
       "      <th>5976479</th>\n",
       "      <td>99999</td>\n",
       "      <td>4</td>\n",
       "      <td>5</td>\n",
       "    </tr>\n",
       "    <tr>\n",
       "      <th>5976480</th>\n",
       "      <td>99999</td>\n",
       "      <td>5</td>\n",
       "      <td>5</td>\n",
       "    </tr>\n",
       "    <tr>\n",
       "      <th>5976481</th>\n",
       "      <td>99999</td>\n",
       "      <td>8</td>\n",
       "      <td>5</td>\n",
       "    </tr>\n",
       "    <tr>\n",
       "      <th>5976482</th>\n",
       "      <td>99999</td>\n",
       "      <td>26</td>\n",
       "      <td>2</td>\n",
       "    </tr>\n",
       "    <tr>\n",
       "      <th>5976483</th>\n",
       "      <td>99999</td>\n",
       "      <td>35</td>\n",
       "      <td>2</td>\n",
       "    </tr>\n",
       "    <tr>\n",
       "      <th>5976484</th>\n",
       "      <td>99999</td>\n",
       "      <td>43</td>\n",
       "      <td>4</td>\n",
       "    </tr>\n",
       "    <tr>\n",
       "      <th>5976485</th>\n",
       "      <td>99999</td>\n",
       "      <td>92</td>\n",
       "      <td>4</td>\n",
       "    </tr>\n",
       "    <tr>\n",
       "      <th>5976486</th>\n",
       "      <td>99999</td>\n",
       "      <td>103</td>\n",
       "      <td>3</td>\n",
       "    </tr>\n",
       "    <tr>\n",
       "      <th>5976487</th>\n",
       "      <td>99999</td>\n",
       "      <td>116</td>\n",
       "      <td>5</td>\n",
       "    </tr>\n",
       "    <tr>\n",
       "      <th>5976488</th>\n",
       "      <td>99999</td>\n",
       "      <td>121</td>\n",
       "      <td>3</td>\n",
       "    </tr>\n",
       "    <tr>\n",
       "      <th>5976489</th>\n",
       "      <td>99999</td>\n",
       "      <td>128</td>\n",
       "      <td>2</td>\n",
       "    </tr>\n",
       "    <tr>\n",
       "      <th>5976490</th>\n",
       "      <td>99999</td>\n",
       "      <td>146</td>\n",
       "      <td>4</td>\n",
       "    </tr>\n",
       "    <tr>\n",
       "      <th>5976491</th>\n",
       "      <td>99999</td>\n",
       "      <td>172</td>\n",
       "      <td>5</td>\n",
       "    </tr>\n",
       "    <tr>\n",
       "      <th>5976492</th>\n",
       "      <td>99999</td>\n",
       "      <td>173</td>\n",
       "      <td>5</td>\n",
       "    </tr>\n",
       "    <tr>\n",
       "      <th>5976493</th>\n",
       "      <td>99999</td>\n",
       "      <td>177</td>\n",
       "      <td>4</td>\n",
       "    </tr>\n",
       "    <tr>\n",
       "      <th>5976494</th>\n",
       "      <td>99999</td>\n",
       "      <td>179</td>\n",
       "      <td>2</td>\n",
       "    </tr>\n",
       "    <tr>\n",
       "      <th>5976495</th>\n",
       "      <td>99999</td>\n",
       "      <td>196</td>\n",
       "      <td>3</td>\n",
       "    </tr>\n",
       "    <tr>\n",
       "      <th>5976496</th>\n",
       "      <td>99999</td>\n",
       "      <td>408</td>\n",
       "      <td>4</td>\n",
       "    </tr>\n",
       "  </tbody>\n",
       "</table>\n",
       "</div>"
      ],
      "text/plain": [
       "         user_id  book_id  rating\n",
       "5976472    23863     8020       4\n",
       "5976473    49925      330       5\n",
       "5976474    49925      510       5\n",
       "5976475    49925      528       4\n",
       "5976476    49925      722       4\n",
       "5976477    49925      949       5\n",
       "5976478    49925     1023       4\n",
       "5976479    99999        4       5\n",
       "5976480    99999        5       5\n",
       "5976481    99999        8       5\n",
       "5976482    99999       26       2\n",
       "5976483    99999       35       2\n",
       "5976484    99999       43       4\n",
       "5976485    99999       92       4\n",
       "5976486    99999      103       3\n",
       "5976487    99999      116       5\n",
       "5976488    99999      121       3\n",
       "5976489    99999      128       2\n",
       "5976490    99999      146       4\n",
       "5976491    99999      172       5\n",
       "5976492    99999      173       5\n",
       "5976493    99999      177       4\n",
       "5976494    99999      179       2\n",
       "5976495    99999      196       3\n",
       "5976496    99999      408       4"
      ]
     },
     "execution_count": 38,
     "metadata": {},
     "output_type": "execute_result"
    }
   ],
   "source": [
    "# add to the table\n",
    "\n",
    "df_ratings = df_ratings.append(df_personal_rating, ignore_index=True)\n",
    "\n",
    "df_ratings.tail(25)"
   ]
  },
  {
   "cell_type": "code",
   "execution_count": 39,
   "metadata": {},
   "outputs": [],
   "source": [
    "df_personal_rating = df_personal_rating[['user_id', 'book_id', 'rating']]"
   ]
  },
  {
   "cell_type": "code",
   "execution_count": 40,
   "metadata": {},
   "outputs": [],
   "source": [
    "# predictions for a new user\n",
    "uid = 99999\n",
    "books = df_ratings[\"book_id\"].unique()\n",
    "\n",
    "predictions = [\n",
    "    algo.predict(uid, book_id)\n",
    "    for book_id in books\n",
    "]\n",
    "\n",
    "df_pred = pd.DataFrame(predictions)\n",
    "\n",
    "df_pred = df_pred.sort_values(\"est\", ascending=False)"
   ]
  },
  {
   "cell_type": "code",
   "execution_count": 41,
   "metadata": {},
   "outputs": [
    {
     "data": {
      "text/html": [
       "<div>\n",
       "<style scoped>\n",
       "    .dataframe tbody tr th:only-of-type {\n",
       "        vertical-align: middle;\n",
       "    }\n",
       "\n",
       "    .dataframe tbody tr th {\n",
       "        vertical-align: top;\n",
       "    }\n",
       "\n",
       "    .dataframe thead th {\n",
       "        text-align: right;\n",
       "    }\n",
       "</style>\n",
       "<table border=\"1\" class=\"dataframe\">\n",
       "  <thead>\n",
       "    <tr style=\"text-align: right;\">\n",
       "      <th></th>\n",
       "      <th>uid</th>\n",
       "      <th>iid</th>\n",
       "      <th>r_ui</th>\n",
       "      <th>est</th>\n",
       "      <th>details</th>\n",
       "    </tr>\n",
       "  </thead>\n",
       "  <tbody>\n",
       "    <tr>\n",
       "      <th>479</th>\n",
       "      <td>99999</td>\n",
       "      <td>8946</td>\n",
       "      <td>None</td>\n",
       "      <td>4.956178</td>\n",
       "      <td>{'was_impossible': False}</td>\n",
       "    </tr>\n",
       "    <tr>\n",
       "      <th>1534</th>\n",
       "      <td>99999</td>\n",
       "      <td>3628</td>\n",
       "      <td>None</td>\n",
       "      <td>4.856607</td>\n",
       "      <td>{'was_impossible': False}</td>\n",
       "    </tr>\n",
       "    <tr>\n",
       "      <th>976</th>\n",
       "      <td>99999</td>\n",
       "      <td>6920</td>\n",
       "      <td>None</td>\n",
       "      <td>4.819543</td>\n",
       "      <td>{'was_impossible': False}</td>\n",
       "    </tr>\n",
       "    <tr>\n",
       "      <th>1830</th>\n",
       "      <td>99999</td>\n",
       "      <td>9566</td>\n",
       "      <td>None</td>\n",
       "      <td>4.808565</td>\n",
       "      <td>{'was_impossible': False}</td>\n",
       "    </tr>\n",
       "    <tr>\n",
       "      <th>975</th>\n",
       "      <td>99999</td>\n",
       "      <td>6590</td>\n",
       "      <td>None</td>\n",
       "      <td>4.780729</td>\n",
       "      <td>{'was_impossible': False}</td>\n",
       "    </tr>\n",
       "    <tr>\n",
       "      <th>...</th>\n",
       "      <td>...</td>\n",
       "      <td>...</td>\n",
       "      <td>...</td>\n",
       "      <td>...</td>\n",
       "      <td>...</td>\n",
       "    </tr>\n",
       "    <tr>\n",
       "      <th>8006</th>\n",
       "      <td>99999</td>\n",
       "      <td>4991</td>\n",
       "      <td>None</td>\n",
       "      <td>2.569387</td>\n",
       "      <td>{'was_impossible': False}</td>\n",
       "    </tr>\n",
       "    <tr>\n",
       "      <th>7861</th>\n",
       "      <td>99999</td>\n",
       "      <td>1822</td>\n",
       "      <td>None</td>\n",
       "      <td>2.568932</td>\n",
       "      <td>{'was_impossible': False}</td>\n",
       "    </tr>\n",
       "    <tr>\n",
       "      <th>7131</th>\n",
       "      <td>99999</td>\n",
       "      <td>7636</td>\n",
       "      <td>None</td>\n",
       "      <td>2.425967</td>\n",
       "      <td>{'was_impossible': False}</td>\n",
       "    </tr>\n",
       "    <tr>\n",
       "      <th>9499</th>\n",
       "      <td>99999</td>\n",
       "      <td>4045</td>\n",
       "      <td>None</td>\n",
       "      <td>2.399326</td>\n",
       "      <td>{'was_impossible': False}</td>\n",
       "    </tr>\n",
       "    <tr>\n",
       "      <th>2388</th>\n",
       "      <td>99999</td>\n",
       "      <td>1793</td>\n",
       "      <td>None</td>\n",
       "      <td>2.278225</td>\n",
       "      <td>{'was_impossible': False}</td>\n",
       "    </tr>\n",
       "  </tbody>\n",
       "</table>\n",
       "<p>10000 rows × 5 columns</p>\n",
       "</div>"
      ],
      "text/plain": [
       "        uid   iid  r_ui       est                    details\n",
       "479   99999  8946  None  4.956178  {'was_impossible': False}\n",
       "1534  99999  3628  None  4.856607  {'was_impossible': False}\n",
       "976   99999  6920  None  4.819543  {'was_impossible': False}\n",
       "1830  99999  9566  None  4.808565  {'was_impossible': False}\n",
       "975   99999  6590  None  4.780729  {'was_impossible': False}\n",
       "...     ...   ...   ...       ...                        ...\n",
       "8006  99999  4991  None  2.569387  {'was_impossible': False}\n",
       "7861  99999  1822  None  2.568932  {'was_impossible': False}\n",
       "7131  99999  7636  None  2.425967  {'was_impossible': False}\n",
       "9499  99999  4045  None  2.399326  {'was_impossible': False}\n",
       "2388  99999  1793  None  2.278225  {'was_impossible': False}\n",
       "\n",
       "[10000 rows x 5 columns]"
      ]
     },
     "execution_count": 41,
     "metadata": {},
     "output_type": "execute_result"
    }
   ],
   "source": [
    "df_pred"
   ]
  },
  {
   "cell_type": "code",
   "execution_count": 42,
   "metadata": {},
   "outputs": [
    {
     "data": {
      "text/plain": [
       "Index(['uid', 'iid', 'r_ui', 'est', 'details', 'book_id', 'title', 'authors',\n",
       "       'average_rating'],\n",
       "      dtype='object')"
      ]
     },
     "execution_count": 42,
     "metadata": {},
     "output_type": "execute_result"
    }
   ],
   "source": [
    "df_pred = df_pred.merge(df_books[library], left_on='iid', right_on=\"book_id\")\n",
    "df_pred.columns"
   ]
  },
  {
   "cell_type": "code",
   "execution_count": 43,
   "metadata": {},
   "outputs": [
    {
     "data": {
      "text/html": [
       "<div>\n",
       "<style scoped>\n",
       "    .dataframe tbody tr th:only-of-type {\n",
       "        vertical-align: middle;\n",
       "    }\n",
       "\n",
       "    .dataframe tbody tr th {\n",
       "        vertical-align: top;\n",
       "    }\n",
       "\n",
       "    .dataframe thead th {\n",
       "        text-align: right;\n",
       "    }\n",
       "</style>\n",
       "<table border=\"1\" class=\"dataframe\">\n",
       "  <thead>\n",
       "    <tr style=\"text-align: right;\">\n",
       "      <th></th>\n",
       "      <th>book_id</th>\n",
       "      <th>title</th>\n",
       "      <th>authors</th>\n",
       "      <th>average_rating</th>\n",
       "    </tr>\n",
       "  </thead>\n",
       "  <tbody>\n",
       "    <tr>\n",
       "      <th>0</th>\n",
       "      <td>8946</td>\n",
       "      <td>The Divan</td>\n",
       "      <td>Hafez</td>\n",
       "      <td>4.63</td>\n",
       "    </tr>\n",
       "    <tr>\n",
       "      <th>1</th>\n",
       "      <td>3628</td>\n",
       "      <td>The Complete Calvin and Hobbes</td>\n",
       "      <td>Bill Watterson</td>\n",
       "      <td>4.82</td>\n",
       "    </tr>\n",
       "    <tr>\n",
       "      <th>2</th>\n",
       "      <td>6920</td>\n",
       "      <td>The Indispensable Calvin and Hobbes</td>\n",
       "      <td>Bill Watterson</td>\n",
       "      <td>4.73</td>\n",
       "    </tr>\n",
       "    <tr>\n",
       "      <th>3</th>\n",
       "      <td>9566</td>\n",
       "      <td>Attack of the Deranged Mutant Killer Monster S...</td>\n",
       "      <td>Bill Watterson</td>\n",
       "      <td>4.72</td>\n",
       "    </tr>\n",
       "    <tr>\n",
       "      <th>4</th>\n",
       "      <td>6590</td>\n",
       "      <td>The Authoritative Calvin and Hobbes: A Calvin ...</td>\n",
       "      <td>Bill Watterson</td>\n",
       "      <td>4.73</td>\n",
       "    </tr>\n",
       "    <tr>\n",
       "      <th>5</th>\n",
       "      <td>7947</td>\n",
       "      <td>ESV Study Bible</td>\n",
       "      <td>Anonymous, Lane T. Dennis, Wayne A. Grudem</td>\n",
       "      <td>4.76</td>\n",
       "    </tr>\n",
       "    <tr>\n",
       "      <th>6</th>\n",
       "      <td>862</td>\n",
       "      <td>Words of Radiance (The Stormlight Archive, #2)</td>\n",
       "      <td>Brandon Sanderson</td>\n",
       "      <td>4.77</td>\n",
       "    </tr>\n",
       "    <tr>\n",
       "      <th>7</th>\n",
       "      <td>5207</td>\n",
       "      <td>The Days Are Just Packed: A Calvin and Hobbes ...</td>\n",
       "      <td>Bill Watterson</td>\n",
       "      <td>4.68</td>\n",
       "    </tr>\n",
       "    <tr>\n",
       "      <th>8</th>\n",
       "      <td>8978</td>\n",
       "      <td>The Revenge of the Baby-Sat</td>\n",
       "      <td>Bill Watterson</td>\n",
       "      <td>4.71</td>\n",
       "    </tr>\n",
       "    <tr>\n",
       "      <th>9</th>\n",
       "      <td>7254</td>\n",
       "      <td>Homicidal Psycho Jungle Cat: A Calvin and Hobb...</td>\n",
       "      <td>Bill Watterson</td>\n",
       "      <td>4.71</td>\n",
       "    </tr>\n",
       "  </tbody>\n",
       "</table>\n",
       "</div>"
      ],
      "text/plain": [
       "   book_id                                              title  \\\n",
       "0     8946                                          The Divan   \n",
       "1     3628                     The Complete Calvin and Hobbes   \n",
       "2     6920                The Indispensable Calvin and Hobbes   \n",
       "3     9566  Attack of the Deranged Mutant Killer Monster S...   \n",
       "4     6590  The Authoritative Calvin and Hobbes: A Calvin ...   \n",
       "5     7947                                    ESV Study Bible   \n",
       "6      862     Words of Radiance (The Stormlight Archive, #2)   \n",
       "7     5207  The Days Are Just Packed: A Calvin and Hobbes ...   \n",
       "8     8978                        The Revenge of the Baby-Sat   \n",
       "9     7254  Homicidal Psycho Jungle Cat: A Calvin and Hobb...   \n",
       "\n",
       "                                      authors  average_rating  \n",
       "0                                       Hafez            4.63  \n",
       "1                              Bill Watterson            4.82  \n",
       "2                              Bill Watterson            4.73  \n",
       "3                              Bill Watterson            4.72  \n",
       "4                              Bill Watterson            4.73  \n",
       "5  Anonymous, Lane T. Dennis, Wayne A. Grudem            4.76  \n",
       "6                           Brandon Sanderson            4.77  \n",
       "7                              Bill Watterson            4.68  \n",
       "8                              Bill Watterson            4.71  \n",
       "9                              Bill Watterson            4.71  "
      ]
     },
     "execution_count": 43,
     "metadata": {},
     "output_type": "execute_result"
    }
   ],
   "source": [
    "# displaying top ten recommendations\n",
    "\n",
    "df_pred[library].head(10)"
   ]
  },
  {
   "cell_type": "code",
   "execution_count": 44,
   "metadata": {},
   "outputs": [],
   "source": [
    "# predictions for a new user\n",
    "uid = 13365\n",
    "books = df_ratings[\"book_id\"].unique()\n",
    "\n",
    "predictions = [\n",
    "    algo.predict(uid, book_id)\n",
    "    for book_id in books\n",
    "]\n",
    "\n",
    "df_pred = pd.DataFrame(predictions)\n",
    "\n",
    "df_pred = df_pred.sort_values(\"est\", ascending=False)"
   ]
  },
  {
   "cell_type": "code",
   "execution_count": 45,
   "metadata": {},
   "outputs": [
    {
     "data": {
      "text/html": [
       "<div>\n",
       "<style scoped>\n",
       "    .dataframe tbody tr th:only-of-type {\n",
       "        vertical-align: middle;\n",
       "    }\n",
       "\n",
       "    .dataframe tbody tr th {\n",
       "        vertical-align: top;\n",
       "    }\n",
       "\n",
       "    .dataframe thead th {\n",
       "        text-align: right;\n",
       "    }\n",
       "</style>\n",
       "<table border=\"1\" class=\"dataframe\">\n",
       "  <thead>\n",
       "    <tr style=\"text-align: right;\">\n",
       "      <th></th>\n",
       "      <th>book_id</th>\n",
       "      <th>title</th>\n",
       "      <th>authors</th>\n",
       "      <th>average_rating</th>\n",
       "    </tr>\n",
       "  </thead>\n",
       "  <tbody>\n",
       "    <tr>\n",
       "      <th>0</th>\n",
       "      <td>951</td>\n",
       "      <td>Survivor</td>\n",
       "      <td>Chuck Palahniuk</td>\n",
       "      <td>3.93</td>\n",
       "    </tr>\n",
       "    <tr>\n",
       "      <th>1</th>\n",
       "      <td>484</td>\n",
       "      <td>Choke</td>\n",
       "      <td>Chuck Palahniuk</td>\n",
       "      <td>3.69</td>\n",
       "    </tr>\n",
       "    <tr>\n",
       "      <th>2</th>\n",
       "      <td>1657</td>\n",
       "      <td>Infinite Jest</td>\n",
       "      <td>David Foster Wallace</td>\n",
       "      <td>4.31</td>\n",
       "    </tr>\n",
       "    <tr>\n",
       "      <th>3</th>\n",
       "      <td>1503</td>\n",
       "      <td>Jitterbug Perfume</td>\n",
       "      <td>Tom Robbins</td>\n",
       "      <td>4.24</td>\n",
       "    </tr>\n",
       "    <tr>\n",
       "      <th>4</th>\n",
       "      <td>1124</td>\n",
       "      <td>Lullaby</td>\n",
       "      <td>Chuck Palahniuk</td>\n",
       "      <td>3.73</td>\n",
       "    </tr>\n",
       "    <tr>\n",
       "      <th>5</th>\n",
       "      <td>238</td>\n",
       "      <td>Running with Scissors</td>\n",
       "      <td>Augusten Burroughs</td>\n",
       "      <td>3.70</td>\n",
       "    </tr>\n",
       "    <tr>\n",
       "      <th>6</th>\n",
       "      <td>663</td>\n",
       "      <td>A People's History of the United States</td>\n",
       "      <td>Howard Zinn</td>\n",
       "      <td>4.07</td>\n",
       "    </tr>\n",
       "    <tr>\n",
       "      <th>7</th>\n",
       "      <td>1236</td>\n",
       "      <td>Haunted</td>\n",
       "      <td>Chuck Palahniuk</td>\n",
       "      <td>3.59</td>\n",
       "    </tr>\n",
       "    <tr>\n",
       "      <th>8</th>\n",
       "      <td>2058</td>\n",
       "      <td>My Grandmother Asked Me to Tell You She's Sorry</td>\n",
       "      <td>Fredrik Backman, Henning Koch</td>\n",
       "      <td>4.02</td>\n",
       "    </tr>\n",
       "    <tr>\n",
       "      <th>9</th>\n",
       "      <td>2035</td>\n",
       "      <td>Squirrel Seeks Chipmunk: A Modest Bestiary</td>\n",
       "      <td>David Sedaris, Ian Falconer</td>\n",
       "      <td>3.34</td>\n",
       "    </tr>\n",
       "  </tbody>\n",
       "</table>\n",
       "</div>"
      ],
      "text/plain": [
       "   book_id                                            title  \\\n",
       "0      951                                         Survivor   \n",
       "1      484                                            Choke   \n",
       "2     1657                                    Infinite Jest   \n",
       "3     1503                                Jitterbug Perfume   \n",
       "4     1124                                          Lullaby   \n",
       "5      238                            Running with Scissors   \n",
       "6      663          A People's History of the United States   \n",
       "7     1236                                          Haunted   \n",
       "8     2058  My Grandmother Asked Me to Tell You She's Sorry   \n",
       "9     2035       Squirrel Seeks Chipmunk: A Modest Bestiary   \n",
       "\n",
       "                         authors  average_rating  \n",
       "0                Chuck Palahniuk            3.93  \n",
       "1                Chuck Palahniuk            3.69  \n",
       "2           David Foster Wallace            4.31  \n",
       "3                    Tom Robbins            4.24  \n",
       "4                Chuck Palahniuk            3.73  \n",
       "5             Augusten Burroughs            3.70  \n",
       "6                    Howard Zinn            4.07  \n",
       "7                Chuck Palahniuk            3.59  \n",
       "8  Fredrik Backman, Henning Koch            4.02  \n",
       "9    David Sedaris, Ian Falconer            3.34  "
      ]
     },
     "execution_count": 45,
     "metadata": {},
     "output_type": "execute_result"
    }
   ],
   "source": [
    "df_pred = df_pred.merge(df_books[library], left_on='iid', right_on=\"book_id\")\n",
    "df_pred[library].head(10)"
   ]
  },
  {
   "cell_type": "code",
   "execution_count": 46,
   "metadata": {},
   "outputs": [],
   "source": [
    "x = df_ratings[df_ratings['user_id']==13365].sort_values('rating', ascending=False)"
   ]
  },
  {
   "cell_type": "code",
   "execution_count": 47,
   "metadata": {},
   "outputs": [
    {
     "data": {
      "text/html": [
       "<div>\n",
       "<style scoped>\n",
       "    .dataframe tbody tr th:only-of-type {\n",
       "        vertical-align: middle;\n",
       "    }\n",
       "\n",
       "    .dataframe tbody tr th {\n",
       "        vertical-align: top;\n",
       "    }\n",
       "\n",
       "    .dataframe thead th {\n",
       "        text-align: right;\n",
       "    }\n",
       "</style>\n",
       "<table border=\"1\" class=\"dataframe\">\n",
       "  <thead>\n",
       "    <tr style=\"text-align: right;\">\n",
       "      <th></th>\n",
       "      <th>user_id</th>\n",
       "      <th>book_id</th>\n",
       "      <th>rating</th>\n",
       "    </tr>\n",
       "  </thead>\n",
       "  <tbody>\n",
       "    <tr>\n",
       "      <th>828812</th>\n",
       "      <td>13365</td>\n",
       "      <td>8874</td>\n",
       "      <td>5</td>\n",
       "    </tr>\n",
       "    <tr>\n",
       "      <th>828813</th>\n",
       "      <td>13365</td>\n",
       "      <td>9900</td>\n",
       "      <td>5</td>\n",
       "    </tr>\n",
       "    <tr>\n",
       "      <th>828811</th>\n",
       "      <td>13365</td>\n",
       "      <td>4282</td>\n",
       "      <td>5</td>\n",
       "    </tr>\n",
       "    <tr>\n",
       "      <th>828741</th>\n",
       "      <td>13365</td>\n",
       "      <td>100</td>\n",
       "      <td>5</td>\n",
       "    </tr>\n",
       "    <tr>\n",
       "      <th>828807</th>\n",
       "      <td>13365</td>\n",
       "      <td>1645</td>\n",
       "      <td>5</td>\n",
       "    </tr>\n",
       "    <tr>\n",
       "      <th>...</th>\n",
       "      <td>...</td>\n",
       "      <td>...</td>\n",
       "      <td>...</td>\n",
       "    </tr>\n",
       "    <tr>\n",
       "      <th>828753</th>\n",
       "      <td>13365</td>\n",
       "      <td>222</td>\n",
       "      <td>1</td>\n",
       "    </tr>\n",
       "    <tr>\n",
       "      <th>828748</th>\n",
       "      <td>13365</td>\n",
       "      <td>11</td>\n",
       "      <td>1</td>\n",
       "    </tr>\n",
       "    <tr>\n",
       "      <th>828747</th>\n",
       "      <td>13365</td>\n",
       "      <td>26</td>\n",
       "      <td>1</td>\n",
       "    </tr>\n",
       "    <tr>\n",
       "      <th>828745</th>\n",
       "      <td>13365</td>\n",
       "      <td>121</td>\n",
       "      <td>1</td>\n",
       "    </tr>\n",
       "    <tr>\n",
       "      <th>828769</th>\n",
       "      <td>13365</td>\n",
       "      <td>53</td>\n",
       "      <td>1</td>\n",
       "    </tr>\n",
       "  </tbody>\n",
       "</table>\n",
       "<p>104 rows × 3 columns</p>\n",
       "</div>"
      ],
      "text/plain": [
       "        user_id  book_id  rating\n",
       "828812    13365     8874       5\n",
       "828813    13365     9900       5\n",
       "828811    13365     4282       5\n",
       "828741    13365      100       5\n",
       "828807    13365     1645       5\n",
       "...         ...      ...     ...\n",
       "828753    13365      222       1\n",
       "828748    13365       11       1\n",
       "828747    13365       26       1\n",
       "828745    13365      121       1\n",
       "828769    13365       53       1\n",
       "\n",
       "[104 rows x 3 columns]"
      ]
     },
     "execution_count": 47,
     "metadata": {},
     "output_type": "execute_result"
    }
   ],
   "source": [
    "x"
   ]
  },
  {
   "cell_type": "code",
   "execution_count": 48,
   "metadata": {},
   "outputs": [
    {
     "data": {
      "text/html": [
       "<div>\n",
       "<style scoped>\n",
       "    .dataframe tbody tr th:only-of-type {\n",
       "        vertical-align: middle;\n",
       "    }\n",
       "\n",
       "    .dataframe tbody tr th {\n",
       "        vertical-align: top;\n",
       "    }\n",
       "\n",
       "    .dataframe thead th {\n",
       "        text-align: right;\n",
       "    }\n",
       "</style>\n",
       "<table border=\"1\" class=\"dataframe\">\n",
       "  <thead>\n",
       "    <tr style=\"text-align: right;\">\n",
       "      <th></th>\n",
       "      <th>user_id</th>\n",
       "      <th>book_id</th>\n",
       "      <th>rating</th>\n",
       "      <th>title</th>\n",
       "      <th>authors</th>\n",
       "      <th>average_rating</th>\n",
       "    </tr>\n",
       "  </thead>\n",
       "  <tbody>\n",
       "    <tr>\n",
       "      <th>0</th>\n",
       "      <td>13365</td>\n",
       "      <td>8874</td>\n",
       "      <td>5</td>\n",
       "      <td>Tell-All</td>\n",
       "      <td>Chuck Palahniuk</td>\n",
       "      <td>2.84</td>\n",
       "    </tr>\n",
       "    <tr>\n",
       "      <th>1</th>\n",
       "      <td>13365</td>\n",
       "      <td>9900</td>\n",
       "      <td>5</td>\n",
       "      <td>Guts</td>\n",
       "      <td>Chuck Palahniuk</td>\n",
       "      <td>3.93</td>\n",
       "    </tr>\n",
       "    <tr>\n",
       "      <th>2</th>\n",
       "      <td>13365</td>\n",
       "      <td>4282</td>\n",
       "      <td>5</td>\n",
       "      <td>Pygmy</td>\n",
       "      <td>Chuck Palahniuk</td>\n",
       "      <td>2.96</td>\n",
       "    </tr>\n",
       "    <tr>\n",
       "      <th>3</th>\n",
       "      <td>13365</td>\n",
       "      <td>100</td>\n",
       "      <td>5</td>\n",
       "      <td>The Poisonwood Bible</td>\n",
       "      <td>Barbara Kingsolver</td>\n",
       "      <td>4.02</td>\n",
       "    </tr>\n",
       "    <tr>\n",
       "      <th>4</th>\n",
       "      <td>13365</td>\n",
       "      <td>1645</td>\n",
       "      <td>5</td>\n",
       "      <td>Rant</td>\n",
       "      <td>Chuck Palahniuk</td>\n",
       "      <td>3.82</td>\n",
       "    </tr>\n",
       "    <tr>\n",
       "      <th>...</th>\n",
       "      <td>...</td>\n",
       "      <td>...</td>\n",
       "      <td>...</td>\n",
       "      <td>...</td>\n",
       "      <td>...</td>\n",
       "      <td>...</td>\n",
       "    </tr>\n",
       "    <tr>\n",
       "      <th>99</th>\n",
       "      <td>13365</td>\n",
       "      <td>222</td>\n",
       "      <td>1</td>\n",
       "      <td>The Bourne Identity (Jason Bourne, #1)</td>\n",
       "      <td>Robert Ludlum</td>\n",
       "      <td>3.98</td>\n",
       "    </tr>\n",
       "    <tr>\n",
       "      <th>100</th>\n",
       "      <td>13365</td>\n",
       "      <td>11</td>\n",
       "      <td>1</td>\n",
       "      <td>The Kite Runner</td>\n",
       "      <td>Khaled Hosseini</td>\n",
       "      <td>4.26</td>\n",
       "    </tr>\n",
       "    <tr>\n",
       "      <th>101</th>\n",
       "      <td>13365</td>\n",
       "      <td>26</td>\n",
       "      <td>1</td>\n",
       "      <td>The Da Vinci Code (Robert Langdon, #2)</td>\n",
       "      <td>Dan Brown</td>\n",
       "      <td>3.79</td>\n",
       "    </tr>\n",
       "    <tr>\n",
       "      <th>102</th>\n",
       "      <td>13365</td>\n",
       "      <td>121</td>\n",
       "      <td>1</td>\n",
       "      <td>Lolita</td>\n",
       "      <td>Vladimir Nabokov, Craig Raine</td>\n",
       "      <td>3.88</td>\n",
       "    </tr>\n",
       "    <tr>\n",
       "      <th>103</th>\n",
       "      <td>13365</td>\n",
       "      <td>53</td>\n",
       "      <td>1</td>\n",
       "      <td>Eragon (The Inheritance Cycle, #1)</td>\n",
       "      <td>Christopher Paolini</td>\n",
       "      <td>3.86</td>\n",
       "    </tr>\n",
       "  </tbody>\n",
       "</table>\n",
       "<p>104 rows × 6 columns</p>\n",
       "</div>"
      ],
      "text/plain": [
       "     user_id  book_id  rating                                   title  \\\n",
       "0      13365     8874       5                                Tell-All   \n",
       "1      13365     9900       5                                    Guts   \n",
       "2      13365     4282       5                                   Pygmy   \n",
       "3      13365      100       5                    The Poisonwood Bible   \n",
       "4      13365     1645       5                                    Rant   \n",
       "..       ...      ...     ...                                     ...   \n",
       "99     13365      222       1  The Bourne Identity (Jason Bourne, #1)   \n",
       "100    13365       11       1                         The Kite Runner   \n",
       "101    13365       26       1  The Da Vinci Code (Robert Langdon, #2)   \n",
       "102    13365      121       1                                  Lolita   \n",
       "103    13365       53       1      Eragon (The Inheritance Cycle, #1)   \n",
       "\n",
       "                           authors  average_rating  \n",
       "0                  Chuck Palahniuk            2.84  \n",
       "1                  Chuck Palahniuk            3.93  \n",
       "2                  Chuck Palahniuk            2.96  \n",
       "3               Barbara Kingsolver            4.02  \n",
       "4                  Chuck Palahniuk            3.82  \n",
       "..                             ...             ...  \n",
       "99                   Robert Ludlum            3.98  \n",
       "100                Khaled Hosseini            4.26  \n",
       "101                      Dan Brown            3.79  \n",
       "102  Vladimir Nabokov, Craig Raine            3.88  \n",
       "103            Christopher Paolini            3.86  \n",
       "\n",
       "[104 rows x 6 columns]"
      ]
     },
     "execution_count": 48,
     "metadata": {},
     "output_type": "execute_result"
    }
   ],
   "source": [
    "df_pred = x.merge(df_books[library], left_on='book_id', right_on=\"book_id\")\n",
    "df_pred"
   ]
  }
 ],
 "metadata": {
  "colab": {
   "collapsed_sections": [
    "Ef4rybfV-NCz",
    "mO5GOo_I-NC0"
   ],
   "name": "sonob.ipynb",
   "provenance": []
  },
  "kernelspec": {
   "display_name": "Python 3",
   "language": "python",
   "name": "python3"
  },
  "language_info": {
   "codemirror_mode": {
    "name": "ipython",
    "version": 3
   },
   "file_extension": ".py",
   "mimetype": "text/x-python",
   "name": "python",
   "nbconvert_exporter": "python",
   "pygments_lexer": "ipython3",
   "version": "3.8.5"
  }
 },
 "nbformat": 4,
 "nbformat_minor": 1
}
