{
 "cells": [
  {
   "cell_type": "code",
   "execution_count": 1,
   "metadata": {},
   "outputs": [],
   "source": [
    "import pulp\n",
    "import numpy as np\n",
    "import pandas as pd\n",
    "import time\n",
    "\n",
    "start_time = time.time()\n",
    "EBB = pd.read_csv(\"portfolio_data.csv\", sep = ',', encoding = \"ISO-8859-1\")"
   ]
  },
  {
   "cell_type": "markdown",
   "metadata": {},
   "source": [
    "We import the relevant packages and data here. The start_time variable is introduced in order to measure the amount of time that the program runs"
   ]
  },
  {
   "cell_type": "code",
   "execution_count": 2,
   "metadata": {},
   "outputs": [],
   "source": [
    "# Pool Parameters - these can be changed depending on the relevant portfolio criteria per deal\n",
    "max_ADB =  400000000   #Target Amount of the portfolio\n",
    "max_RV = max_ADB*0.55 #RV concentration\n",
    "ReplenishmentGap = 10000 #maximum \"lapda\" allowed\n",
    "\n",
    "#Client Concentration\n",
    "Top1_5 = max_ADB*0.020 #five largest clients can't be larger than 2% of the portfolio, etc.\n",
    "Top6_10 = max_ADB*0.015\n",
    "Top11_15 = max_ADB*0.010\n",
    "Top16_30 = max_ADB*0.0075\n",
    "TopRest = max_ADB*0.005 #all clients outside the Top30 should not be larger than 0.50%\n",
    "TopXCriteria = [Top1_5, Top1_5, Top1_5, Top1_5, Top1_5, Top6_10, Top6_10, \n",
    "                Top6_10, Top6_10, Top6_10, Top11_15, Top11_15, Top11_15, \n",
    "                Top11_15,Top11_15, Top16_30, Top16_30, Top16_30,Top16_30,\n",
    "                Top16_30,Top16_30,Top16_30,Top16_30,Top16_30,Top16_30,\n",
    "                Top16_30,Top16_30,Top16_30,Top16_30,Top16_30]\n",
    "#Portfolio Concentration\n",
    "TopSector = max_ADB*0.235\n",
    "max_SME = max_ADB*0.35\n",
    "max_Retail = max_ADB*0.02\n",
    "max_remaining_term = max_ADB*0.01\n",
    "max_non_monthly = max_ADB*0.05\n",
    "\n",
    "\n",
    "#Solving Parameters\n",
    "calc_time = 100 #maximum solving time in seconds\n",
    "max_iter = 10 #maximum number of iterations\n",
    "solver_Gurobi = pulp.GUROBI_CMD(timeLimit=calc_time, logPath='stats.log')#Gurobi, commercial solver\n",
    "solver_CBC = pulp.PULP_CBC_CMD(timeLimit=calc_time,  logPath='stats.log') #default PulP solver (open source)\n",
    "solver = solver_CBC #variable that allows you to choose your solver\n",
    "InitialPoolCut = True  #set to False when entering the topping-up phase"
   ]
  },
  {
   "cell_type": "markdown",
   "metadata": {},
   "source": [
    "This codeblock sets the relevant parameters for the problem. First the relevant parameters for the capacity constraints are set. Subsequently the parameters for the solver are created. We can make a decision on which solver to use here (Gurobi/CBC) and whether we want to solve the initial selection problem or the topping-up problem. Furthermore, we can set the maximum solving time and maximum number of iterations during the lazy constraint evaluation process. A LogPath was provided to the solver in order for us to be able to debug solving performance by inspecting the log."
   ]
  },
  {
   "cell_type": "code",
   "execution_count": 3,
   "metadata": {},
   "outputs": [],
   "source": [
    "# Create some variables that are needed to set-up the problem\n",
    "DiscountedBalance = EBB['agg_current_balance']\n",
    "PreviousPool = EBB['PreviousPool']*DiscountedBalance\n",
    "\n",
    "# set linear optimization problem\n",
    "LO_problem = pulp.LpProblem(\"BumperKnapSack\", pulp.LpMaximize)\n",
    "\n",
    "# create decision variables\n",
    "n = len(DiscountedBalance) \n",
    "x = [pulp.LpVariable(f'{i}', cat='Binary') for i in range(n)]\n",
    "\n",
    "LO_problem += (1-InitialPoolCut)*pulp.lpDot(x , PreviousPool)+ \n",
    "                InitialPoolCut*pulp.lpDot(x , DiscountedBalance),\"ObjFunc\" "
   ]
  },
  {
   "cell_type": "markdown",
   "metadata": {},
   "source": [
    "We create some useful general variables and decision variables here. The variables \"x\" represents the decision variable. x is a binary variable which is set to 1 if a particular lease contract is selected. DiscountedBalance represents translates to the \"revenue\" in a general knapsack setting. The PreviousPool variable represents lease contracts that were selected in the portfolio of previous month. The last line of code represents the objective function which is a combination of equation 19/20 in our paper, depending on which subproblem we are solving (initial selction or topping-up phase)."
   ]
  },
  {
   "cell_type": "code",
   "execution_count": 4,
   "metadata": {},
   "outputs": [],
   "source": [
    "# Constraints\n",
    "solution_ADB = pulp.lpDot(x , DiscountedBalance)\n",
    "lapda = max_ADB - solution_ADB\n",
    "LO_problem += ReplenishmentGap >= lapda #lapda should be lower than the threshold but can't be negative\n",
    "LO_problem += pulp.lpDot(x, EBB['PV_CURRENT_MONTH_RV']) <= max_RV  #cap on Residual Value%\n",
    "LO_problem += pulp.lpDot(x, DiscountedBalance*(EBB['CORP_GOVT_RETAIL_DESC']=='SME')) <= max_SME\n",
    "LO_problem += pulp.lpDot(x, DiscountedBalance*(EBB['CORP_GOVT_RETAIL_DESC']=='Retail')) <= max_Retail\n",
    "LO_problem += pulp.lpDot(x, DiscountedBalance*(EBB['REMAINING_DURATION']>60)) <= max_remaining_term\n",
    "LO_problem += pulp.lpDot(x, DiscountedBalance*(EBB['PAYMENT_FREQ_NO']!='Monthly')) <= max_non_monthly\n",
    "\n",
    "sector = EBB['NACE_Aggregated_Group_Desc'].unique().tolist() #limit exposure to a certain industry sector\n",
    "sector.remove('L - REAL ESTATE ACTIVITIES')\n",
    "for S in sector:\n",
    "    LO_problem += pulp.lpDot(x, DiscountedBalance*(EBB['NACE_Aggregated_Group_Desc']==S)) <= TopSector"
   ]
  },
  {
   "cell_type": "markdown",
   "metadata": {},
   "source": [
    "The relevant constraints are added to the model here (expect for the client concentration constraints, which are handled below). Lapda is defined as the difference between the Target Amount and the actual solution."
   ]
  },
  {
   "cell_type": "code",
   "execution_count": 5,
   "metadata": {},
   "outputs": [],
   "source": [
    "#Concentration Criteria are added for the largest clients only\n",
    "TotalConstraints = pd.DataFrame(columns = [\"SECURITISATION_GROUP_NO\", \"TopX\"])\n",
    "EBB_Grouped = EBB.groupby(['SECURITISATION_GROUP_NO'], as_index=False).sum() #group the available leases by customer\n",
    "large_clients = (EBB_Grouped['agg_current_balance']>Top1_5).sum()\n",
    "EBB_PreviousSol = EBB_Grouped.sort_values(['agg_current_balance'], \n",
    "                                          ascending=False, ignore_index=True)   \n",
    "EBB_PreviousSol['TopX'] = np.NaN\n",
    "EBB_PreviousSol['TopX'] = EBB_PreviousSol['TopX'].fillna(Top1_5)\n",
    "AdditionalConstraints = EBB_PreviousSol.loc[0:large_clients, \n",
    "                                            ['SECURITISATION_GROUP_NO', 'TopX']]\n",
    "for i,j in list(zip(AdditionalConstraints['SECURITISATION_GROUP_NO'],\n",
    "                    AdditionalConstraints['TopX'])):\n",
    "        LO_problem += pulp.lpDot(x, DiscountedBalance*(EBB['SECURITISATION_GROUP_NO']==i))<= j\n",
    "TotalConstraints = TotalConstraints.append(AdditionalConstraints)"
   ]
  },
  {
   "cell_type": "markdown",
   "metadata": {},
   "source": [
    "No client group (identified by SECURITISATION_GROUP_NO in the data) can represent more than 2% of the portfolio, constraints are added to reflect that. Only for clients which have a portfolio that is actually bigger than 2% of the portfolio, constraints are added to the model, so only a modest amount of constraints are added in this step."
   ]
  },
  {
   "cell_type": "code",
   "execution_count": 6,
   "metadata": {},
   "outputs": [],
   "source": [
    "if InitialPoolCut == False: #these criteria are only applicable during the topping-up phase\n",
    "    #based on the ranking before topping-up, concentration criteria are assigned (to minimize buybacks)\n",
    "    EBB_Grouped = EBB.groupby(['SECURITISATION_GROUP_NO'], as_index=False).sum() #grouping EBB\n",
    "    large_clients = (EBB_Grouped['agg_current_balance']>Top1_5).sum()\n",
    "    EBB_PreviousSol = EBB[EBB['PreviousPool']==1]\n",
    "    EBB_PreviousSol = EBB_PreviousSol.groupby(['SECURITISATION_GROUP_NO'], \n",
    "                                              as_index=False).sum()\n",
    "    EBB_PreviousSol = EBB_PreviousSol.sort_values(['agg_current_balance'], \n",
    "                                                  ascending=False, ignore_index=True)   \n",
    "    EBB_PreviousSol['TopX'] = pd.Series(TopXCriteria)\n",
    "    EBB_PreviousSol['TopX'] = EBB_PreviousSol['TopX'].fillna(TopRest)\n",
    "    AdditionalConstraints = EBB_PreviousSol.loc[0:large_clients, \n",
    "                                                ['SECURITISATION_GROUP_NO', 'TopX']]   \n",
    "    for i,j in list(zip(AdditionalConstraints['SECURITISATION_GROUP_NO'],\n",
    "                        AdditionalConstraints['TopX'])):\n",
    "        LO_problem += pulp.lpDot(x, DiscountedBalance*(EBB['SECURITISATION_GROUP_NO']==i))<= j\n",
    "    TotalConstraints = TotalConstraints.append(AdditionalConstraints)"
   ]
  },
  {
   "cell_type": "markdown",
   "metadata": {},
   "source": [
    "During the topping-up phase, it is important that the client concentration criteria are ranked in accordance with the solution of the problem in the previous period. If you don't do this, you might end up with a large client for which a smaller concentration criteria suddenly is applicable, which would initiate substantial substitutions"
   ]
  },
  {
   "cell_type": "code",
   "execution_count": 7,
   "metadata": {},
   "outputs": [
    {
     "name": "stdout",
     "output_type": "stream",
     "text": [
      "Status: Optimal\n",
      "Lapda =  3.7599980235099792\n"
     ]
    }
   ],
   "source": [
    "#The initial LO problem is solved\n",
    "LO_problem.solve(solver)\n",
    "print(\"Status:\", pulp.LpStatus[LO_problem.status])\n",
    "if pulp.LpStatus[LO_problem.status]=='Not Solved':\n",
    "    print('problem was not solved')\n",
    "else:\n",
    "    print(\"Lapda = \", max_ADB - pulp.value(pulp.lpDot(x , DiscountedBalance))) #value of lapda"
   ]
  },
  {
   "cell_type": "markdown",
   "metadata": {},
   "source": [
    "The problem is solved for the first time."
   ]
  },
  {
   "cell_type": "code",
   "execution_count": 8,
   "metadata": {},
   "outputs": [],
   "source": [
    "def retrieve_sol(): #function to retrieve solution\n",
    "    df = []\n",
    "    for v in LO_problem.variables():\n",
    "        if \"__dummy\" not in v.name:\n",
    "            df.append((v.name, v.varValue))\n",
    "    df = pd.DataFrame(df, columns=['a', 'b'], dtype=np.int32)\n",
    "    df['a']=df['a'].astype(str).astype(int)\n",
    "    df = df.sort_values(['a'])\n",
    "    df = df.reset_index(drop=True)\n",
    "    return df"
   ]
  },
  {
   "cell_type": "markdown",
   "metadata": {},
   "source": [
    "A function is written to retrieve the solution from the relevant PulP variables"
   ]
  },
  {
   "cell_type": "code",
   "execution_count": 9,
   "metadata": {},
   "outputs": [],
   "source": [
    "df = retrieve_sol()\n",
    "frames = [EBB, df]\n",
    "EBB_sol = pd.concat(frames, axis=1)\n",
    "EBB_sol.to_csv('initial_sol.csv', index = False, header=True)\n",
    "\n",
    "def CheckBreaches(): #function to check for breaches\n",
    "    EBB_sol = pd.concat(frames, axis=1)\n",
    "    EBB_solgroup = EBB_sol[EBB_sol['b']==1]\n",
    "    EBB_solgroup = EBB_solgroup.groupby(['SECURITISATION_GROUP_NO'], \n",
    "                                        as_index=False).sum()\n",
    "    EBB_solgroup = EBB_solgroup.sort_values(['agg_current_balance'], \n",
    "                                            ascending=False, ignore_index=True)   \n",
    "    EBB_solgroup['TopX'] = pd.Series(TopXCriteria)\n",
    "    EBB_solgroup['TopX'] = EBB_solgroup['TopX'].fillna(TopRest)\n",
    "    EBB_solgroup['Breach'] = EBB_solgroup['agg_current_balance']\n",
    "                                            >EBB_solgroup['TopX']   \n",
    "    AdditionalConstraints = EBB_solgroup.loc[EBB_solgroup['Breach']==True, \n",
    "                                        ['SECURITISATION_GROUP_NO', 'TopX']]\n",
    "    return AdditionalConstraints"
   ]
  },
  {
   "cell_type": "markdown",
   "metadata": {},
   "source": [
    "A function is written that checks for breaches of any client concentration constraints."
   ]
  },
  {
   "cell_type": "code",
   "execution_count": 10,
   "metadata": {},
   "outputs": [
    {
     "name": "stdout",
     "output_type": "stream",
     "text": [
      "Status: Optimal\n",
      "Lapda =  12.839997828006744\n",
      "Now starting with iteration number: 1\n",
      "amount of constraints added in this iteration 9\n",
      "total number of solving iterations needed: 1\n"
     ]
    }
   ],
   "source": [
    "no_iter = 0\n",
    "while no_iter < max_iter:\n",
    "    no_iter += 1\n",
    "    df = retrieve_sol()\n",
    "    frames = [EBB, df]\n",
    "    AdditionalConstraints = CheckBreaches()\n",
    "    if AdditionalConstraints['TopX'].count()==0:\n",
    "        print('total number of solving iterations needed:', no_iter-1)\n",
    "        if InitialPoolCut == False:\n",
    "            print(\"ADB of contracts repurchased = \",\n",
    "                  PreviousPool.sum() - pulp.value(pulp.lpDot(x , PreviousPool)))\n",
    "        break        \n",
    "    for i,j in list(zip(AdditionalConstraints['SECURITISATION_GROUP_NO'],\n",
    "                        AdditionalConstraints['TopX'])):\n",
    "        LO_problem += pulp.lpDot(x, DiscountedBalance*(EBB['SECURITISATION_GROUP_NO']==i))<= j\n",
    "    TotalConstraints = TotalConstraints.append(AdditionalConstraints)\n",
    "    LO_problem.solve(solver)\n",
    "    print(\"Status:\", pulp.LpStatus[LO_problem.status])\n",
    "    if pulp.LpStatus[LO_problem.status]=='Not Solved':\n",
    "        print('problem was not solved')\n",
    "    else:\n",
    "        print(\"Lapda = \", max_ADB - pulp.value(pulp.lpDot(x , DiscountedBalance))) \n",
    "    print('Now starting with iteration number:', no_iter)\n",
    "    print('amount of constraints added in this iteration', \n",
    "          AdditionalConstraints['TopX'].count())\n",
    "else:\n",
    "    print('total number of solving iterations performed:', no_iter)\n",
    "    if InitialPoolCut == False: \n",
    "            print(\"ADB of contracts repurchased = \", \n",
    "                  PreviousPool.sum() - pulp.value(pulp.lpDot(x , PreviousPool)))\n",
    "    df = retrieve_sol()\n",
    "    frames = [EBB, df]\n",
    "    AdditionalConstraints = CheckBreaches()\n",
    "    if AdditionalConstraints['TopX'].count()!=0:\n",
    "        print('solution is not optimal, number of clients in breach are:', \n",
    "              AdditionalConstraints['TopX'].count())"
   ]
  },
  {
   "cell_type": "markdown",
   "metadata": {},
   "source": [
    "This is the heart of the Lazy Constraint program written. Constraints are added for the breaches that are encountered, after which the problem is solved again and subsequently check for breaches until no further breaches are outstanding. The number of iterations in this while loop is capped to make sure that we don't end up in an infinite loop."
   ]
  },
  {
   "cell_type": "code",
   "execution_count": 11,
   "metadata": {},
   "outputs": [
    {
     "name": "stdout",
     "output_type": "stream",
     "text": [
      "this program ran for 4.255829139550527 minutes\n"
     ]
    }
   ],
   "source": [
    "#print final solution to a csv file\n",
    "df = retrieve_sol()\n",
    "frames = [EBB, df]\n",
    "EBB_sol = pd.concat(frames, axis=1)\n",
    "EBB_sol.to_csv('final_sol.csv', index = False, header=True)\n",
    "\n",
    "#calculate runtime\n",
    "end_time = time.time()\n",
    "runtime = (end_time - start_time)/60\n",
    "print('this program ran for', runtime, 'minutes')\n",
    "\n",
    "#prints constraints to excel file\n",
    "with pd.ExcelWriter('diagnostics.xlsx') as writer:  \n",
    "   TotalConstraints.to_excel(writer, sheet_name='Constraints')\n",
    "   AdditionalConstraints.to_excel(writer, sheet_name='Breaches')"
   ]
  },
  {
   "cell_type": "markdown",
   "metadata": {},
   "source": [
    "the final solution is written to a csv file (along with the relevant diagnostics, which is written to a separate file)"
   ]
  }
 ],
 "metadata": {
  "kernelspec": {
   "display_name": "Python 3",
   "language": "python",
   "name": "python3"
  },
  "language_info": {
   "codemirror_mode": {
    "name": "ipython",
    "version": 3
   },
   "file_extension": ".py",
   "mimetype": "text/x-python",
   "name": "python",
   "nbconvert_exporter": "python",
   "pygments_lexer": "ipython3",
   "version": "3.8.5"
  }
 },
 "nbformat": 4,
 "nbformat_minor": 4
}
